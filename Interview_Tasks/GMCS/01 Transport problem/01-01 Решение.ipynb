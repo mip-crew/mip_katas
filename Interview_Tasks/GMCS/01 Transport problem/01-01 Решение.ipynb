{
 "cells": [
  {
   "cell_type": "markdown",
   "id": "cd4bd6e7",
   "metadata": {},
   "source": [
    "# Постановка задачи\n",
    "\n",
    "Задачей предусматриваются перевозки от поставщиков к потребителям по прямым маршрутам. Обозначим множество(количество) поставщиков через Warhouses, множество(количество) потребителей – Consumers\n",
    "\n",
    "Для каждого маршрута Warhouse-Consumer задана стоимость перевозки \n",
    " 〖routeCost〗_ij,i=1..Warhouses,j=1..Consumers.\n",
    " \n",
    "На балансе каждого поставщика имеется объем товара, доступный к перевозке: 〖WareVolume〗_i,i=1..Warhouses.\n",
    "\n",
    "Для каждого потребителя задан спрос (количество товара, которое необходимо привезти потребителю): 〖Consumers〗_j,j=1..Consumers.\n",
    "\n",
    "Цель: исходя из спроса на потребителях и предложения на поставщиках, построить план перевозок от поставщиков к потребителям при минимизации издержек на транспортировку."
   ]
  },
  {
   "cell_type": "markdown",
   "id": "d104a1c4",
   "metadata": {},
   "source": [
    "Задача со звездочкой: провести анализ на чувствительность (для компьютерного метода решения)."
   ]
  },
  {
   "cell_type": "markdown",
   "id": "54ba54a7",
   "metadata": {},
   "source": [
    "Задачу необходимо решить двумя способами: \n",
    "\n",
    "1)\tРешить руками на бумаге любым способом (можно решать как с помощью известных методов, так и придумать собственный)\n",
    "\n",
    "2)\tРешить в Excel 2010 или на любом из следующих языков программирования: C++, C#, Java, Matlab, OPL"
   ]
  },
  {
   "cell_type": "markdown",
   "id": "882bfd66",
   "metadata": {},
   "source": [
    "# Формулировка модели"
   ]
  },
  {
   "cell_type": "markdown",
   "id": "3de4c56f",
   "metadata": {},
   "source": [
    "Sets:\n",
    "\n",
    "$W$ – warehouses\n",
    "\n",
    "$C$ – customers\n",
    "\n",
    "Parameters:\n",
    "\n",
    "$S_{w}$ – supply at warehouse $w$\n",
    "\n",
    "$D_{c}$ – demand by customer $c$\n",
    "\n",
    "$U_{w,c}$ – unit transport cost from $w$ to $c$\n",
    "\n",
    "Variables:\n",
    "\n",
    "$x_{w,c}$ – transport value from $w$ to $c$\n",
    "\n",
    "$z$ – total transport cost"
   ]
  },
  {
   "cell_type": "markdown",
   "id": "dda50a48",
   "metadata": {},
   "source": [
    "Minimize: \n",
    "\n",
    "$z = \\sum_{w, c} U_{w,c} · x_{w,c}$\n",
    "\n",
    "subject to:\n",
    "\n",
    "$\\sum_{c}x_{w,c} ≤ S_{w}$\n",
    "\n",
    "$\\sum_{w}x_{w,c} ≥ D_{c}$\n",
    "\n",
    "$x_{w,c} ≥ 0  ∀(w,c)$ \n"
   ]
  },
  {
   "cell_type": "markdown",
   "id": "1773256d",
   "metadata": {},
   "source": [
    "# Реализация"
   ]
  },
  {
   "cell_type": "markdown",
   "id": "b12fda09",
   "metadata": {},
   "source": [
    "Импортируем библиотеки"
   ]
  },
  {
   "cell_type": "code",
   "execution_count": 1,
   "id": "d9c28a5c",
   "metadata": {
    "tags": []
   },
   "outputs": [],
   "source": [
    "import pandas as pd\n",
    "import pyomo.environ as pyo\n",
    "from pyomo.opt import SolverFactory"
   ]
  },
  {
   "cell_type": "markdown",
   "id": "39479a09",
   "metadata": {},
   "source": [
    "Берем данные из внешего источника"
   ]
  },
  {
   "cell_type": "code",
   "execution_count": 2,
   "id": "65456c26",
   "metadata": {
    "tags": []
   },
   "outputs": [],
   "source": [
    "path = (r\"01 Data.xls\") # Относительный путь к файлу\n",
    "df_demand = pd.read_excel(path, sheet_name='Demand') # Считываем датафрейм из файла\n",
    "df_supply = pd.read_excel(path, sheet_name='Supply') # Считываем датафрейм из файла\n",
    "df_costs = pd.read_excel(path, sheet_name='Costs') # Считываем датафрейм из файла"
   ]
  },
  {
   "cell_type": "markdown",
   "id": "7f1dfff0",
   "metadata": {},
   "source": [
    "Начинаем писать модель"
   ]
  },
  {
   "cell_type": "code",
   "execution_count": 3,
   "id": "9b82eec5",
   "metadata": {},
   "outputs": [],
   "source": [
    "model = pyo.ConcreteModel('Transport problem')"
   ]
  },
  {
   "cell_type": "markdown",
   "id": "20c39c97",
   "metadata": {},
   "source": [
    "Множества"
   ]
  },
  {
   "cell_type": "code",
   "execution_count": 4,
   "id": "5b244cca",
   "metadata": {},
   "outputs": [],
   "source": [
    "model.customers = pyo.Set(initialize = list(df_demand.set_index(['cons_name']).index))\n",
    "model.warehouses = pyo.Set(initialize = list(df_supply.set_index(['ware_name']).index))\n",
    "model.costs = pyo.Set(initialize = list(df_costs.set_index(['ware_name', 'cons_name']).index)) # добавляем множество для пары индексов "
   ]
  },
  {
   "cell_type": "markdown",
   "id": "f69ed0c2",
   "metadata": {},
   "source": [
    "Параметры"
   ]
  },
  {
   "cell_type": "code",
   "execution_count": 5,
   "id": "4e5dabef",
   "metadata": {},
   "outputs": [],
   "source": [
    "model.demand = pyo.Param(model.customers, initialize = df_demand.set_index(['cons_name'])['cons_demand, кг товара'].to_dict())\n",
    "model.supply = pyo.Param(model.warehouses, initialize = df_supply.set_index(['ware_name'])['ware_volume, кг товара'].to_dict())\n",
    "model.cost = pyo.Param(model.costs, initialize = df_costs.set_index(['ware_name', 'cons_name'])['transport_cost (стоимость в у.е.)'].to_dict())"
   ]
  },
  {
   "cell_type": "markdown",
   "id": "391a1357",
   "metadata": {},
   "source": [
    "Переменные"
   ]
  },
  {
   "cell_type": "code",
   "execution_count": 6,
   "id": "eaf0933d",
   "metadata": {},
   "outputs": [],
   "source": [
    "model.x = pyo.Var(model.costs, domain=pyo.NonNegativeReals)"
   ]
  },
  {
   "cell_type": "markdown",
   "id": "45b9edb3",
   "metadata": {},
   "source": [
    "Целевая функция"
   ]
  },
  {
   "cell_type": "code",
   "execution_count": 7,
   "id": "f523a899",
   "metadata": {},
   "outputs": [],
   "source": [
    "def OF_rule(model):\n",
    "    return sum(model.x[(w, c)] * model.cost[(w, c)] for (w, c) in model.costs)\n",
    "model.c = pyo.Objective(rule=OF_rule, sense=pyo.minimize)"
   ]
  },
  {
   "cell_type": "markdown",
   "id": "9ecbd334",
   "metadata": {},
   "source": [
    "Ограничения"
   ]
  },
  {
   "cell_type": "code",
   "execution_count": 8,
   "id": "4680978f",
   "metadata": {},
   "outputs": [],
   "source": [
    "def Supply_rule(model, w):\n",
    "    return sum(model.x[(w, c)] for c in model.customers) <= model.supply[w]\n",
    "model.SupplyConstr = pyo.Constraint(model.warehouses, rule=Supply_rule)"
   ]
  },
  {
   "cell_type": "code",
   "execution_count": 9,
   "id": "202bfc9d",
   "metadata": {},
   "outputs": [],
   "source": [
    "def Demand_rule(model, c):\n",
    "    return sum(model.x[(w, c)] for w in model.warehouses) >= model.demand[c] # Хотя тут обсуждаемо – по постановке может быть и строгое равенство, но т.к. спрос равен предложению, то без разницы\n",
    "model.DemandConstr = pyo.Constraint(model.customers, rule=Demand_rule)"
   ]
  },
  {
   "cell_type": "markdown",
   "id": "3d462eca",
   "metadata": {},
   "source": [
    "Выбираем солвер"
   ]
  },
  {
   "cell_type": "code",
   "execution_count": 10,
   "id": "63ae2230",
   "metadata": {},
   "outputs": [],
   "source": [
    "solver = pyo.SolverFactory('gurobi')"
   ]
  },
  {
   "cell_type": "markdown",
   "id": "dbfc8a91",
   "metadata": {},
   "source": [
    "Создаем суффикс для анализа чувствительсности"
   ]
  },
  {
   "cell_type": "code",
   "execution_count": 11,
   "id": "2a9bfa3e",
   "metadata": {},
   "outputs": [],
   "source": [
    "model.dual = pyo.Suffix(direction=pyo.Suffix.IMPORT)"
   ]
  },
  {
   "cell_type": "markdown",
   "id": "ccd56692",
   "metadata": {},
   "source": [
    "Решаем модель"
   ]
  },
  {
   "cell_type": "code",
   "execution_count": 12,
   "id": "8c46c33c",
   "metadata": {},
   "outputs": [],
   "source": [
    "result = solver.solve(model)"
   ]
  },
  {
   "cell_type": "markdown",
   "id": "70667bd4",
   "metadata": {},
   "source": [
    "Смотрим на целевую"
   ]
  },
  {
   "cell_type": "code",
   "execution_count": 13,
   "id": "cb4445ad",
   "metadata": {},
   "outputs": [
    {
     "data": {
      "text/plain": [
       "1070.0"
      ]
     },
     "execution_count": 13,
     "metadata": {},
     "output_type": "execute_result"
    }
   ],
   "source": [
    "model.c()"
   ]
  },
  {
   "cell_type": "markdown",
   "id": "3eecb1dd",
   "metadata": {},
   "source": [
    "Выводим результаты"
   ]
  },
  {
   "cell_type": "code",
   "execution_count": 14,
   "id": "17d85f64",
   "metadata": {
    "scrolled": true
   },
   "outputs": [
    {
     "name": "stdout",
     "output_type": "stream",
     "text": [
      "\n",
      "Problem: \n",
      "- Name: x1\n",
      "  Lower bound: 1070.0\n",
      "  Upper bound: 1070.0\n",
      "  Number of objectives: 1\n",
      "  Number of constraints: 10\n",
      "  Number of variables: 24\n",
      "  Number of binary variables: 0\n",
      "  Number of integer variables: 0\n",
      "  Number of continuous variables: 24\n",
      "  Number of nonzeros: 48\n",
      "  Sense: minimize\n",
      "Solver: \n",
      "- Status: ok\n",
      "  Return code: 0\n",
      "  Message: Model was solved to optimality (subject to tolerances), and an optimal solution is available.\n",
      "  Termination condition: optimal\n",
      "  Termination message: Model was solved to optimality (subject to tolerances), and an optimal solution is available.\n",
      "  Wall time: 0.05900001525878906\n",
      "  Error rc: 0\n",
      "  Time: 0.4662325382232666\n",
      "Solution: \n",
      "- number of solutions: 0\n",
      "  number of solutions displayed: 0\n",
      "\n"
     ]
    }
   ],
   "source": [
    "print(result)"
   ]
  },
  {
   "cell_type": "markdown",
   "id": "5439cad7",
   "metadata": {},
   "source": [
    "Проверяем, как сгенерировалась модель"
   ]
  },
  {
   "cell_type": "code",
   "execution_count": 15,
   "id": "316998d8",
   "metadata": {},
   "outputs": [
    {
     "name": "stdout",
     "output_type": "stream",
     "text": [
      "Model Transport problem\n",
      "\n",
      "  Variables:\n",
      "    x : Size=24, Index=costs\n",
      "        Key               : Lower : Value : Upper : Fixed : Stale : Domain\n",
      "        ('War1', 'Cons1') :     0 :  10.0 :  None : False : False : NonNegativeReals\n",
      "        ('War1', 'Cons2') :     0 :   0.0 :  None : False : False : NonNegativeReals\n",
      "        ('War1', 'Cons3') :     0 :  40.0 :  None : False : False : NonNegativeReals\n",
      "        ('War1', 'Cons4') :     0 :  20.0 :  None : False : False : NonNegativeReals\n",
      "        ('War1', 'Cons5') :     0 :  10.0 :  None : False : False : NonNegativeReals\n",
      "        ('War1', 'Cons6') :     0 :   0.0 :  None : False : False : NonNegativeReals\n",
      "        ('War2', 'Cons1') :     0 :   0.0 :  None : False : False : NonNegativeReals\n",
      "        ('War2', 'Cons2') :     0 :  30.0 :  None : False : False : NonNegativeReals\n",
      "        ('War2', 'Cons3') :     0 :   0.0 :  None : False : False : NonNegativeReals\n",
      "        ('War2', 'Cons4') :     0 :   0.0 :  None : False : False : NonNegativeReals\n",
      "        ('War2', 'Cons5') :     0 :   0.0 :  None : False : False : NonNegativeReals\n",
      "        ('War2', 'Cons6') :     0 :  30.0 :  None : False : False : NonNegativeReals\n",
      "        ('War3', 'Cons1') :     0 :   0.0 :  None : False : False : NonNegativeReals\n",
      "        ('War3', 'Cons2') :     0 :   0.0 :  None : False : False : NonNegativeReals\n",
      "        ('War3', 'Cons3') :     0 :   0.0 :  None : False : False : NonNegativeReals\n",
      "        ('War3', 'Cons4') :     0 :  30.0 :  None : False : False : NonNegativeReals\n",
      "        ('War3', 'Cons5') :     0 :   0.0 :  None : False : False : NonNegativeReals\n",
      "        ('War3', 'Cons6') :     0 :   0.0 :  None : False : False : NonNegativeReals\n",
      "        ('War4', 'Cons1') :     0 :   0.0 :  None : False : False : NonNegativeReals\n",
      "        ('War4', 'Cons2') :     0 :   0.0 :  None : False : False : NonNegativeReals\n",
      "        ('War4', 'Cons3') :     0 :   0.0 :  None : False : False : NonNegativeReals\n",
      "        ('War4', 'Cons4') :     0 :   0.0 :  None : False : False : NonNegativeReals\n",
      "        ('War4', 'Cons5') :     0 :  60.0 :  None : False : False : NonNegativeReals\n",
      "        ('War4', 'Cons6') :     0 :   0.0 :  None : False : False : NonNegativeReals\n",
      "\n",
      "  Objectives:\n",
      "    c : Size=1, Index=None, Active=True\n",
      "        Key  : Active : Value\n",
      "        None :   True : 1070.0\n",
      "\n",
      "  Constraints:\n",
      "    SupplyConstr : Size=4\n",
      "        Key  : Lower : Body : Upper\n",
      "        War1 :  None : 80.0 :  80.0\n",
      "        War2 :  None : 60.0 :  60.0\n",
      "        War3 :  None : 30.0 :  30.0\n",
      "        War4 :  None : 60.0 :  60.0\n",
      "    DemandConstr : Size=6\n",
      "        Key   : Lower : Body : Upper\n",
      "        Cons1 :  10.0 : 10.0 :  None\n",
      "        Cons2 :  30.0 : 30.0 :  None\n",
      "        Cons3 :  40.0 : 40.0 :  None\n",
      "        Cons4 :  50.0 : 50.0 :  None\n",
      "        Cons5 :  70.0 : 70.0 :  None\n",
      "        Cons6 :  30.0 : 30.0 :  None\n"
     ]
    }
   ],
   "source": [
    "model.display()"
   ]
  },
  {
   "cell_type": "markdown",
   "id": "d0d4a7c9",
   "metadata": {},
   "source": [
    "Записываем lp-файл с моделью"
   ]
  },
  {
   "cell_type": "code",
   "execution_count": 16,
   "id": "b2287275",
   "metadata": {
    "scrolled": true
   },
   "outputs": [
    {
     "data": {
      "text/plain": [
       "('01 model.lp', 1844881906512)"
      ]
     },
     "execution_count": 16,
     "metadata": {},
     "output_type": "execute_result"
    }
   ],
   "source": [
    "model.write('01 model.lp', io_options={'symbolic_solver_labels': True})"
   ]
  },
  {
   "cell_type": "markdown",
   "id": "e4f90c68",
   "metadata": {},
   "source": [
    "## Анализ на чувствительность "
   ]
  },
  {
   "cell_type": "code",
   "execution_count": 17,
   "id": "7bd5517c",
   "metadata": {},
   "outputs": [
    {
     "name": "stdout",
     "output_type": "stream",
     "text": [
      "Duals\n",
      "   Constraint SupplyConstr\n",
      "       War1 0.0\n",
      "       War2 -1.0\n",
      "       War3 -5.0\n",
      "       War4 -3.0\n",
      "   Constraint DemandConstr\n",
      "       Cons1 3.0\n",
      "       Cons2 5.0\n",
      "       Cons3 8.0\n",
      "       Cons4 13.0\n",
      "       Cons5 4.0\n",
      "       Cons6 1.0\n"
     ]
    }
   ],
   "source": [
    "print(\"Duals\")\n",
    "for c in model.component_objects(pyo.Constraint, active=True):\n",
    "    print(\"   Constraint\", c)\n",
    "    for index in c:\n",
    "        print(\"      \", index, model.dual[c[index]])"
   ]
  },
  {
   "cell_type": "markdown",
   "id": "c6af420d",
   "metadata": {},
   "source": [
    "Изменение спроса на единицу увеличит целевую на величину значения двойственной оценки для DemandConstr"
   ]
  }
 ],
 "metadata": {
  "kernelspec": {
   "display_name": "Python 3 (ipykernel)",
   "language": "python",
   "name": "python3"
  },
  "language_info": {
   "codemirror_mode": {
    "name": "ipython",
    "version": 3
   },
   "file_extension": ".py",
   "mimetype": "text/x-python",
   "name": "python",
   "nbconvert_exporter": "python",
   "pygments_lexer": "ipython3",
   "version": "3.11.4"
  }
 },
 "nbformat": 4,
 "nbformat_minor": 5
}
