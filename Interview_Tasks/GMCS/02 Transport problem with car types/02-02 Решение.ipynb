{
 "cells": [
  {
   "cell_type": "markdown",
   "id": "cd4bd6e7",
   "metadata": {},
   "source": [
    "# Постановка задачи\n",
    "\n",
    "Задачей предусматриваются перевозки различным типом грузового транспорта от поставщиков к потребителям по прямым маршрутам. Обозначим множество(количество) поставщиков через Warhouses, множество(количество) потребителей – Consumers, множество(количество) различных типов транспорта через TransportType. \n",
    "\n",
    "Для каждого маршрута Warhouse-Consumer задана стоимость перевозки определенным типом транспорта:\n",
    " 〖routeCost〗_ijk,i=1..Warhouses,j=1..Consumers,k=1..TransportType.\n",
    " \n",
    "Для каждого поставщика задано количество транспорта, доступное для перевозок от этого поставщика:\n",
    "〖WareTransportQuantity〗_ik,i=1..Warhouses,k=1..TransportType, \n",
    "и объем товара на балансе поставщика, доступный к перевозке:\n",
    "〖WareVolume〗_i,i=1..Warhouses.\n",
    "\n",
    "Для каждого потребителя задан спрос (количество товара, которое необходимо привезти потребителю):\n",
    "〖Consumers〗_j,j=1..Consumers .\n",
    "\n",
    "Для каждого типа транспорта задана его грузоподъёмность:\n",
    "〖TransportType〗_k,k=1..TransportType.\n",
    "\n",
    "Цель: исходя из спроса на потребителях и предложения на поставщиках, построить план перевозок от поставщиков к потребителям с учетом доступного транспорта при минимизации издержек на транспортировку."
   ]
  },
  {
   "cell_type": "markdown",
   "id": "54ba54a7",
   "metadata": {},
   "source": [
    "Задачу необходимо решить в Excel 2010 или на любом из следующих языков программирования: C++, C#, Java, Matlab, OPL."
   ]
  },
  {
   "cell_type": "markdown",
   "id": "882bfd66",
   "metadata": {},
   "source": [
    "# Формулировка модели"
   ]
  },
  {
   "cell_type": "markdown",
   "id": "3de4c56f",
   "metadata": {},
   "source": [
    "Sets:\n",
    "\n",
    "$W$ – warehouses\n",
    "\n",
    "$C$ – customers\n",
    "\n",
    "$TT$ – transport type\n",
    "\n",
    "Parameters:\n",
    "\n",
    "$S_{w}$ – supply at warehouse $w$\n",
    "\n",
    "$D_{c}$ – demand by customer $c$\n",
    "\n",
    "$U_{w,c,tt}$ – unit transport cost from $w$ to $c$ by transport type $tt$\n",
    "\n",
    "$LC_{tt}$ – load capacity by transport type $tt$\n",
    "\n",
    "$AT_{w,tt}$ – available transport $tt$ at warehouse $w$  \n",
    "\n",
    "Variables:\n",
    "\n",
    "$x_{w,c,tt}$ – transport value from $w$ to $c$ by transport type $tt$\n",
    "\n",
    "$z$ – total transport cost"
   ]
  },
  {
   "cell_type": "markdown",
   "id": "dda50a48",
   "metadata": {},
   "source": [
    "Minimize: \n",
    "\n",
    "$z = \\sum_{w}\\sum_{c}\\sum_{tt} U_{w, c, tt} · x_{w, c, tt}$\n",
    "\n",
    "subject to:\n",
    "\n",
    "$\\sum_{c}\\sum_{tt} x_{w,c,tt} ≤ S_{w}$\n",
    "\n",
    "$\\sum_{w}\\sum_{tt} x_{w,c,tt} = D_{c}$\n",
    "\n",
    "$\\sum_{c} x_{w, c, tt} ≤ LC_{tt} · AT_{w, tt}$\n",
    "\n",
    "$x_{w, c, tt} ≥ 0  ∀(w, c, tt)$ \n"
   ]
  },
  {
   "cell_type": "markdown",
   "id": "1773256d",
   "metadata": {},
   "source": [
    "# Реализация"
   ]
  },
  {
   "cell_type": "markdown",
   "id": "b12fda09",
   "metadata": {},
   "source": [
    "Импортируем библиотеки"
   ]
  },
  {
   "cell_type": "code",
   "execution_count": 1,
   "id": "d9c28a5c",
   "metadata": {
    "tags": []
   },
   "outputs": [],
   "source": [
    "import pandas as pd\n",
    "import pyomo.environ as pyo\n",
    "from pyomo.opt import SolverFactory"
   ]
  },
  {
   "cell_type": "markdown",
   "id": "39479a09",
   "metadata": {},
   "source": [
    "Берем данные из внешего источника"
   ]
  },
  {
   "cell_type": "code",
   "execution_count": 2,
   "id": "65456c26",
   "metadata": {
    "tags": []
   },
   "outputs": [],
   "source": [
    "path = (r\"02 Data.xls\")\n",
    "df_demand = pd.read_excel(path, sheet_name='Demand')\n",
    "df_supply = pd.read_excel(path, sheet_name='Supply')\n",
    "df_costs = pd.read_excel(path, sheet_name='Costs')\n",
    "df_carTypes = pd.read_excel(path, sheet_name='TType')\n",
    "df_dislocation = pd.read_excel(path, sheet_name='Dislocation')"
   ]
  },
  {
   "cell_type": "markdown",
   "id": "7f1dfff0",
   "metadata": {},
   "source": [
    "Начинаем писать модель"
   ]
  },
  {
   "cell_type": "code",
   "execution_count": 3,
   "id": "9b82eec5",
   "metadata": {},
   "outputs": [],
   "source": [
    "model = pyo.ConcreteModel('Transport Problem with car types')"
   ]
  },
  {
   "cell_type": "markdown",
   "id": "ced46b7e",
   "metadata": {},
   "source": [
    "Множества"
   ]
  },
  {
   "cell_type": "code",
   "execution_count": 4,
   "id": "f6565f85",
   "metadata": {},
   "outputs": [],
   "source": [
    "model.customers_set = list(df_demand.set_index(['cons_name']).index)\n",
    "model.warehouses_set = list(df_supply.set_index(['ware_name']).index)\n",
    "model.carTypes_set = list(df_carTypes.set_index(['transport_type']).index)\n",
    "\n",
    "model.costs_set = list(df_costs.set_index(['ware_name', 'cons_name', 'transport_type']).index)\n",
    "model.dislocation_set = list(df_dislocation.set_index(['ware_name', 'transport_type']).index)"
   ]
  },
  {
   "cell_type": "code",
   "execution_count": 5,
   "id": "5b244cca",
   "metadata": {},
   "outputs": [],
   "source": [
    "model.s_customers = pyo.Set(initialize = model.customers_set)\n",
    "model.s_warehouses = pyo.Set(initialize = model.warehouses_set)\n",
    "model.s_carTypes = pyo.Set(initialize = model.carTypes_set)"
   ]
  },
  {
   "cell_type": "markdown",
   "id": "5b73498b",
   "metadata": {},
   "source": [
    "Множества с числом индексов больше одного"
   ]
  },
  {
   "cell_type": "code",
   "execution_count": 6,
   "id": "b0f39827",
   "metadata": {},
   "outputs": [],
   "source": [
    "model.s_costs = pyo.Set(initialize = model.costs_set)\n",
    "model.s_dislocation = pyo.Set(initialize = model.dislocation_set)"
   ]
  },
  {
   "cell_type": "markdown",
   "id": "aa9b9d2d",
   "metadata": {},
   "source": [
    "Параметры"
   ]
  },
  {
   "cell_type": "code",
   "execution_count": 7,
   "id": "1e25a70b",
   "metadata": {},
   "outputs": [],
   "source": [
    "model.p_demand = pyo.Param(model.s_customers, initialize = df_demand.set_index(['cons_name'])['cons_demand, кг товара'].to_dict())\n",
    "model.p_supply = pyo.Param(model.s_warehouses, initialize = df_supply.set_index(['ware_name'])['ware_volume, кг товара'].to_dict())\n",
    "model.p_loadCapacity = pyo.Param(model.s_carTypes, initialize = df_carTypes.set_index(['transport_type'])['transport_ability, кг товара'].to_dict())\n",
    "model.p_cost = pyo.Param(model.s_costs, initialize = df_costs.set_index(['ware_name', 'cons_name', 'transport_type'])['transport_cost (стоимость в у.е.)'].to_dict())\n",
    "model.p_availableCars = pyo.Param(model.s_dislocation, initialize = df_dislocation.set_index(['ware_name', 'transport_type'])['transport_quantity (количество доступного транспорта в ед.)'].to_dict())"
   ]
  },
  {
   "cell_type": "markdown",
   "id": "6ed5eb4d",
   "metadata": {},
   "source": [
    "Переменные"
   ]
  },
  {
   "cell_type": "code",
   "execution_count": 8,
   "id": "eaf0933d",
   "metadata": {},
   "outputs": [],
   "source": [
    "model.v_x = pyo.Var(model.s_costs, domain=pyo.NonNegativeReals)"
   ]
  },
  {
   "cell_type": "markdown",
   "id": "ba628fe0",
   "metadata": {},
   "source": [
    "Целевая функция"
   ]
  },
  {
   "cell_type": "code",
   "execution_count": 9,
   "id": "3ef43150",
   "metadata": {},
   "outputs": [],
   "source": [
    "def OF_rule(model):\n",
    "    return sum(model.v_x[(w, c, tt)] * model.p_cost[(w, c, tt)] for (w, c, tt) in model.s_costs)\n",
    "model.v_OF = pyo.Objective(rule=OF_rule, sense=pyo.minimize)"
   ]
  },
  {
   "cell_type": "markdown",
   "id": "8478e5c9",
   "metadata": {},
   "source": [
    "Ограничения"
   ]
  },
  {
   "cell_type": "markdown",
   "id": "65a4c64a",
   "metadata": {},
   "source": [
    "\"Index '('Yaroslavl', 'Vladimir', '20 tonn')' is not valid for indexed component 'v_x'\" так как нет данных по 20ти тоннику - т.е. нужно ограничить что индексы должны входить в model.p_availableCars"
   ]
  },
  {
   "cell_type": "code",
   "execution_count": 10,
   "id": "31625b5e",
   "metadata": {},
   "outputs": [],
   "source": [
    "index_domain_w = df_costs.assign(index_domain=df_costs[['cons_name', 'transport_type']].to_records(index=False).tolist()).groupby(['ware_name']).agg(set).index_domain.to_dict()"
   ]
  },
  {
   "cell_type": "code",
   "execution_count": 11,
   "id": "4680978f",
   "metadata": {},
   "outputs": [],
   "source": [
    "def Supply_rule(model, w):\n",
    "    return sum(model.v_x[(w, c, tt)] for c, tt in index_domain_w.get(w, [])) <= model.p_supply[w]\n",
    "model.c_Supply = pyo.Constraint(model.s_warehouses, rule=Supply_rule)"
   ]
  },
  {
   "cell_type": "code",
   "execution_count": 12,
   "id": "2f146085",
   "metadata": {},
   "outputs": [],
   "source": [
    "index_domain_c = df_costs.assign(index_domain=df_costs[['ware_name', 'transport_type']].to_records(index=False).tolist()).groupby(['cons_name']).agg(set).index_domain.to_dict()"
   ]
  },
  {
   "cell_type": "code",
   "execution_count": 13,
   "id": "2fdbce3a",
   "metadata": {},
   "outputs": [],
   "source": [
    "def Demand_rule(model, c):\n",
    "    return sum(model.v_x[(w, c, tt)] for w, tt in index_domain_c.get(c, [])) == model.p_demand[c]\n",
    "model.c_Demand = pyo.Constraint(model.s_customers, rule=Demand_rule)"
   ]
  },
  {
   "cell_type": "code",
   "execution_count": 14,
   "id": "13a38f82",
   "metadata": {},
   "outputs": [],
   "source": [
    "index_domain_tt = df_costs.assign(index_domain=df_costs[['cons_name']]).groupby(['ware_name', 'transport_type']).agg(set).index_domain.to_dict()"
   ]
  },
  {
   "cell_type": "code",
   "execution_count": 15,
   "id": "876bf3fa",
   "metadata": {},
   "outputs": [],
   "source": [
    "def Transport_rule(model, w, tt):\n",
    "    return sum(model.v_x[(w, c, tt)] for c in index_domain_tt.get((w, tt), [])) <= model.p_loadCapacity[tt] * model.p_availableCars[w, tt]\n",
    "model.c_Transport = pyo.Constraint(model.s_warehouses, model.s_carTypes, rule=Transport_rule)"
   ]
  },
  {
   "cell_type": "markdown",
   "id": "aa571098",
   "metadata": {},
   "source": [
    "Выбираем солвер"
   ]
  },
  {
   "cell_type": "code",
   "execution_count": 16,
   "id": "63ae2230",
   "metadata": {},
   "outputs": [],
   "source": [
    "solver = pyo.SolverFactory('gurobi')"
   ]
  },
  {
   "cell_type": "markdown",
   "id": "32c9db5c",
   "metadata": {},
   "source": [
    "Создаем суффикс для анализа чувствительсности"
   ]
  },
  {
   "cell_type": "code",
   "execution_count": 17,
   "id": "792f3869",
   "metadata": {},
   "outputs": [],
   "source": [
    "model.dual = pyo.Suffix(direction=pyo.Suffix.IMPORT)"
   ]
  },
  {
   "cell_type": "markdown",
   "id": "6fda9ac6",
   "metadata": {},
   "source": [
    "Решаем модель"
   ]
  },
  {
   "cell_type": "code",
   "execution_count": 18,
   "id": "8c46c33c",
   "metadata": {},
   "outputs": [],
   "source": [
    "result = solver.solve(model)"
   ]
  },
  {
   "cell_type": "markdown",
   "id": "70667bd4",
   "metadata": {},
   "source": [
    "Смотрим на целевую"
   ]
  },
  {
   "cell_type": "code",
   "execution_count": 19,
   "id": "cb4445ad",
   "metadata": {},
   "outputs": [
    {
     "data": {
      "text/plain": [
       "11830000.0"
      ]
     },
     "execution_count": 19,
     "metadata": {},
     "output_type": "execute_result"
    }
   ],
   "source": [
    "model.v_OF()"
   ]
  },
  {
   "cell_type": "markdown",
   "id": "d3a9518a",
   "metadata": {},
   "source": [
    "Выводим результаты"
   ]
  },
  {
   "cell_type": "code",
   "execution_count": 20,
   "id": "17d85f64",
   "metadata": {
    "scrolled": true
   },
   "outputs": [
    {
     "name": "stdout",
     "output_type": "stream",
     "text": [
      "\n",
      "Problem: \n",
      "- Name: x1\n",
      "  Lower bound: 11830000.0\n",
      "  Upper bound: 11830000.0\n",
      "  Number of objectives: 1\n",
      "  Number of constraints: 13\n",
      "  Number of variables: 23\n",
      "  Number of binary variables: 0\n",
      "  Number of integer variables: 0\n",
      "  Number of continuous variables: 23\n",
      "  Number of nonzeros: 69\n",
      "  Sense: minimize\n",
      "Solver: \n",
      "- Status: ok\n",
      "  Return code: 0\n",
      "  Message: Model was solved to optimality (subject to tolerances), and an optimal solution is available.\n",
      "  Termination condition: optimal\n",
      "  Termination message: Model was solved to optimality (subject to tolerances), and an optimal solution is available.\n",
      "  Wall time: 0.11700010299682617\n",
      "  Error rc: 0\n",
      "  Time: 0.627129316329956\n",
      "Solution: \n",
      "- number of solutions: 0\n",
      "  number of solutions displayed: 0\n",
      "\n"
     ]
    }
   ],
   "source": [
    "print(result)"
   ]
  },
  {
   "cell_type": "markdown",
   "id": "d096c67a",
   "metadata": {},
   "source": [
    "Проверяем, как сгенерировалась модель"
   ]
  },
  {
   "cell_type": "code",
   "execution_count": 21,
   "id": "5036be08",
   "metadata": {},
   "outputs": [
    {
     "name": "stdout",
     "output_type": "stream",
     "text": [
      "Model Transport Problem with car types\n",
      "\n",
      "  Variables:\n",
      "    v_x : Size=23, Index=s_costs\n",
      "        Key                                  : Lower : Value    : Upper : Fixed : Stale : Domain\n",
      "             ('Moscow', 'Bransk', '10 tonn') :     0 :      0.0 :  None : False : False : NonNegativeReals\n",
      "             ('Moscow', 'Bransk', '20 tonn') :     0 :      0.0 :  None : False : False : NonNegativeReals\n",
      "              ('Moscow', 'Bransk', '3 tonn') :     0 :      0.0 :  None : False : False : NonNegativeReals\n",
      "              ('Moscow', 'Bransk', '5 tonn') :     0 :      0.0 :  None : False : False : NonNegativeReals\n",
      "               ('Moscow', 'Orel', '10 tonn') :     0 : 100000.0 :  None : False : False : NonNegativeReals\n",
      "               ('Moscow', 'Orel', '20 tonn') :     0 :      0.0 :  None : False : False : NonNegativeReals\n",
      "                ('Moscow', 'Orel', '3 tonn') :     0 :      0.0 :  None : False : False : NonNegativeReals\n",
      "                ('Moscow', 'Orel', '5 tonn') :     0 :      0.0 :  None : False : False : NonNegativeReals\n",
      "           ('Moscow', 'Vladimir', '10 tonn') :     0 :      0.0 :  None : False : False : NonNegativeReals\n",
      "           ('Moscow', 'Vladimir', '20 tonn') :     0 : 160000.0 :  None : False : False : NonNegativeReals\n",
      "            ('Moscow', 'Vladimir', '3 tonn') :     0 :   6000.0 :  None : False : False : NonNegativeReals\n",
      "            ('Moscow', 'Vladimir', '5 tonn') :     0 :  50000.0 :  None : False : False : NonNegativeReals\n",
      "          ('Yaroslavl', 'Bransk', '10 tonn') :     0 : 128000.0 :  None : False : False : NonNegativeReals\n",
      "          ('Yaroslavl', 'Bransk', '20 tonn') :     0 :  22000.0 :  None : False : False : NonNegativeReals\n",
      "           ('Yaroslavl', 'Bransk', '3 tonn') :     0 :      0.0 :  None : False : False : NonNegativeReals\n",
      "           ('Yaroslavl', 'Bransk', '5 tonn') :     0 :      0.0 :  None : False : False : NonNegativeReals\n",
      "            ('Yaroslavl', 'Orel', '10 tonn') :     0 :      0.0 :  None : False : False : NonNegativeReals\n",
      "            ('Yaroslavl', 'Orel', '20 tonn') :     0 :      0.0 :  None : False : False : NonNegativeReals\n",
      "             ('Yaroslavl', 'Orel', '3 tonn') :     0 :      0.0 :  None : False : False : NonNegativeReals\n",
      "             ('Yaroslavl', 'Orel', '5 tonn') :     0 :      0.0 :  None : False : False : NonNegativeReals\n",
      "        ('Yaroslavl', 'Vladimir', '10 tonn') :     0 :  22000.0 :  None : False : False : NonNegativeReals\n",
      "         ('Yaroslavl', 'Vladimir', '3 tonn') :     0 :  12000.0 :  None : False : False : NonNegativeReals\n",
      "         ('Yaroslavl', 'Vladimir', '5 tonn') :     0 :  50000.0 :  None : False : False : NonNegativeReals\n",
      "\n",
      "  Objectives:\n",
      "    v_OF : Size=1, Index=None, Active=True\n",
      "        Key  : Active : Value\n",
      "        None :   True : 11830000.0\n",
      "\n",
      "  Constraints:\n",
      "    c_Supply : Size=2\n",
      "        Key       : Lower : Body     : Upper\n",
      "           Moscow :  None : 316000.0 :   1000000.0\n",
      "        Yaroslavl :  None : 234000.0 : 990009990.0\n",
      "    c_Demand : Size=3\n",
      "        Key      : Lower    : Body     : Upper\n",
      "          Bransk : 150000.0 : 150000.0 : 150000.0\n",
      "            Orel : 100000.0 : 100000.0 : 100000.0\n",
      "        Vladimir : 300000.0 : 300000.0 : 300000.0\n",
      "    c_Transport : Size=8\n",
      "        Key                      : Lower : Body     : Upper\n",
      "           ('Moscow', '10 tonn') :  None : 100000.0 : 100000.0\n",
      "           ('Moscow', '20 tonn') :  None : 160000.0 : 160000.0\n",
      "            ('Moscow', '3 tonn') :  None :   6000.0 :   6000.0\n",
      "            ('Moscow', '5 tonn') :  None :  50000.0 :  50000.0\n",
      "        ('Yaroslavl', '10 tonn') :  None : 150000.0 : 150000.0\n",
      "        ('Yaroslavl', '20 tonn') :  None :  22000.0 : 140000.0\n",
      "         ('Yaroslavl', '3 tonn') :  None :  12000.0 :  12000.0\n",
      "         ('Yaroslavl', '5 tonn') :  None :  50000.0 :  50000.0\n"
     ]
    }
   ],
   "source": [
    "model.display()"
   ]
  },
  {
   "cell_type": "markdown",
   "id": "0845f27c",
   "metadata": {},
   "source": [
    "Записываем lp-файл с моделью"
   ]
  },
  {
   "cell_type": "code",
   "execution_count": 22,
   "id": "10642741",
   "metadata": {
    "scrolled": true
   },
   "outputs": [
    {
     "data": {
      "text/plain": [
       "('02 model.lp', 2277552318160)"
      ]
     },
     "execution_count": 22,
     "metadata": {},
     "output_type": "execute_result"
    }
   ],
   "source": [
    "model.write('02 model.lp', io_options={'symbolic_solver_labels': True})"
   ]
  },
  {
   "cell_type": "markdown",
   "id": "d00fa912",
   "metadata": {},
   "source": [
    "## Анализ на чувствительность "
   ]
  },
  {
   "cell_type": "code",
   "execution_count": 23,
   "id": "0f2e08e1",
   "metadata": {},
   "outputs": [
    {
     "name": "stdout",
     "output_type": "stream",
     "text": [
      "Duals\n",
      "   Constraint c_Supply\n",
      "       Moscow 0.0\n",
      "       Yaroslavl 0.0\n",
      "   Constraint c_Demand\n",
      "       Orel 27.0\n",
      "       Bransk 30.0\n",
      "       Vladimir 29.0\n",
      "   Constraint c_Transport\n",
      "       ('Moscow', '3 tonn') -19.0\n",
      "       ('Moscow', '5 tonn') -16.0\n",
      "       ('Moscow', '10 tonn') -11.0\n",
      "       ('Moscow', '20 tonn') -5.0\n",
      "       ('Yaroslavl', '3 tonn') -13.0\n",
      "       ('Yaroslavl', '5 tonn') -10.0\n",
      "       ('Yaroslavl', '10 tonn') -4.0\n",
      "       ('Yaroslavl', '20 tonn') 0.0\n"
     ]
    }
   ],
   "source": [
    "print(\"Duals\")\n",
    "for c in model.component_objects(pyo.Constraint, active=True):\n",
    "    print(\"   Constraint\", c)\n",
    "    for index in c:\n",
    "        print(\"      \", index, model.dual[c[index]])"
   ]
  },
  {
   "cell_type": "markdown",
   "id": "a5e4e413",
   "metadata": {},
   "source": [
    "Изменение спроса на единицу увеличит целевую на величину значения двойственной оценки для c_Demand"
   ]
  }
 ],
 "metadata": {
  "kernelspec": {
   "display_name": "Python 3 (ipykernel)",
   "language": "python",
   "name": "python3"
  },
  "language_info": {
   "codemirror_mode": {
    "name": "ipython",
    "version": 3
   },
   "file_extension": ".py",
   "mimetype": "text/x-python",
   "name": "python",
   "nbconvert_exporter": "python",
   "pygments_lexer": "ipython3",
   "version": "3.11.4"
  }
 },
 "nbformat": 4,
 "nbformat_minor": 5
}
