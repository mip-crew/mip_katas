{
 "cells": [
  {
   "cell_type": "markdown",
   "metadata": {},
   "source": [
    "# Постановка задачи\n",
    "\n",
    "### Исходные данные: \n",
    "1. Даны функции максимальной суточной производительности по двум подземным хранилищам газа (ПХГ).\n",
    "2. Каждое ПХГ заполнено на 90% (файл 1.Кривые_ПХГ.xlsx). \n",
    "3. Имеется прогноз будущей потребности в ресурсе (отборах) из всех ПХГ в совокупности (2.Прогноз_ПХГ.csv).\n",
    "\n",
    "### Задание: \n",
    "1) На период прогноза требуется найти оптимальное распределение отборов газа из каждого ПХГ такое, чтобы:\n",
    "- Суммарная производительность по всем ПХГ была бы максимальной на 01.12.2021.\n",
    "- Совокупные суточные отборы полностью покрывали бы потребность.\n",
    "- Суточные отборы по каждому ПХГ не превышали бы максимальную производительность.\n",
    "2) Опишите подходы к решению задачи, когда потребность в ресурсе из ПХГ – случайный процесс."
   ]
  },
  {
   "cell_type": "markdown",
   "id": "882bfd66",
   "metadata": {},
   "source": [
    "# Формулировка модели"
   ]
  },
  {
   "cell_type": "markdown",
   "metadata": {},
   "source": [
    "#### Множества / Sets:\n",
    "\n",
    "$W$ – подземные хранилища газа (ПХГ) / storages\n",
    "\n",
    "$T$ – периоды планирования / days"
   ]
  },
  {
   "cell_type": "markdown",
   "metadata": {},
   "source": [
    "#### Параметры / Parameters:\n",
    "\n",
    "$pV_{t, w}$ – изначальная заполненность ПХГ / initial supply at storage $w$ at day $t$ = 1\n",
    "\n",
    "$pD_{t}$ – потребность в ресурсе в день $t$ / demand by day $t$\n",
    "\n",
    "$pFirstDay$ – первый период планирования / first element in $T$ set\n",
    "\n",
    "$pLastDay$ – последний период планирования / last element in $T$ set"
   ]
  },
  {
   "cell_type": "markdown",
   "metadata": {},
   "source": [
    "#### Переменные / Variables:\n",
    "\n",
    "$vP_{t, w}$ – продуктивность ПХГ $w$ в день $t$ / productivity per $w$ at day $t$ \n",
    "\n",
    "$vV_{t, w}$ – объем газа в ПХГ $w$ в день $t$ / gas volume per $w$ at day $t$"
   ]
  },
  {
   "cell_type": "markdown",
   "metadata": {},
   "source": [
    "##### Переменные для первого дня / Variables for first day:\n",
    "\n",
    "$$vP_{t, w} ≤ 5 + 0.0000001 * pV_{t, w}^3 + 0.00004 * pV_{t, w}^2 - 0.02 * pV_{t, w} \\forall w = 1 ∪ t = pFirstDay$$\n",
    "\n",
    "$$vP_{t, w} ≤ 10 - 0.00006 * pV_{t, w}^2 + 0.05 * pV_{t, w} \\forall w=2 ∪ t = pFirstDay$$"
   ]
  },
  {
   "cell_type": "markdown",
   "metadata": {},
   "source": [
    "##### Переменные для последующих дней  / Variables for next days:\n",
    "\n",
    "$$vP_{t, w} ≤ 5 + 0.0000001* vV_{t-1, w}^3 + 0.00004 * vV_{t-1, w}^2 - 0.02 * vV_{t-1, w} \\forall w = 1 ∪ pFirstDay < t < pLastDay $$\n",
    "\n",
    "$$vP_{t, w} ≤ 10 - 0.00006 * vV_{t-1, w}^2 + 0.05 * vV_{t-1, w} \\forall w = 2 ∪ pFirstDay < t < pLastDay $$"
   ]
  },
  {
   "cell_type": "markdown",
   "metadata": {},
   "source": [
    "##### Переменные для последнего дня / Variables for last day:\n",
    "\n",
    "$$vP_{t, w} = 5 + 0.0000001 * vV_{t, w}^3 + 0.00004 * vV_{t, w}^2 - 0.02 * vV_{t, w} \\forall w = 1 ∪ t = pLastDay$$\n",
    "\n",
    "$$vP_{t, w} = 10 - 0.00006 * vV_{t, w}^2 + 0.05 * vV_{t, w} \\forall w = 2 ∪ t = pLastDay$$"
   ]
  },
  {
   "cell_type": "markdown",
   "metadata": {},
   "source": [
    "#### Ограничения / Constraints:\n",
    "\n",
    "##### Балансовые огранчения / Balance constraints:\n",
    "$$vV_{t, w} = pV_{t, w} - vP_{t, w} \\forall t = pFirstDay$$\n",
    "\n",
    "$$vV_{t, w} = vV_{t-1, w} - vP_{t, w}  \\forall t <> pFirstDay$$"
   ]
  },
  {
   "cell_type": "markdown",
   "id": "3de4c56f",
   "metadata": {},
   "source": [
    "##### Ограничение потребности / Demand constraint:\n",
    "$$\\sum_{w} vP_{t, w} = pD_{t}$$"
   ]
  },
  {
   "cell_type": "markdown",
   "metadata": {},
   "source": [
    "# Решение"
   ]
  },
  {
   "cell_type": "markdown",
   "metadata": {},
   "source": [
    "Импортируем библиотеки"
   ]
  },
  {
   "cell_type": "code",
   "execution_count": 1,
   "metadata": {},
   "outputs": [],
   "source": [
    "import pandas as pd\n",
    "import pyomo.environ as pyo\n",
    "from pyomo.opt import SolverFactory"
   ]
  },
  {
   "cell_type": "markdown",
   "metadata": {},
   "source": [
    "Читаем данные в датафреймы"
   ]
  },
  {
   "cell_type": "code",
   "execution_count": 2,
   "metadata": {},
   "outputs": [],
   "source": [
    "path_xlsx = r\"03 Data 01.xlsx\"\n",
    "path_csv = r\"03 Data 02.csv\"\n",
    "\n",
    "df_xlsx = pd.read_excel(path_xlsx);\n",
    "df_csv = pd.read_csv(path_csv);"
   ]
  },
  {
   "cell_type": "markdown",
   "metadata": {},
   "source": [
    "Начинаем писать модель"
   ]
  },
  {
   "cell_type": "code",
   "execution_count": 3,
   "metadata": {},
   "outputs": [],
   "source": [
    "model = pyo.ConcreteModel('Gas demand problem')"
   ]
  },
  {
   "cell_type": "markdown",
   "metadata": {},
   "source": [
    "## Множества"
   ]
  },
  {
   "cell_type": "code",
   "execution_count": 4,
   "metadata": {},
   "outputs": [],
   "source": [
    "model.s_warehouses = pyo.Set(initialize = ['Tank 1', 'Tank 2'])"
   ]
  },
  {
   "cell_type": "code",
   "execution_count": 5,
   "metadata": {},
   "outputs": [],
   "source": [
    "model.s_days = pyo.Set(initialize = df_csv.set_index(['Дата']).index)"
   ]
  },
  {
   "cell_type": "markdown",
   "metadata": {},
   "source": [
    "### Подмножества для переменных"
   ]
  },
  {
   "cell_type": "code",
   "execution_count": 6,
   "metadata": {},
   "outputs": [],
   "source": [
    "model.ss_FirstWarehouse = pyo.Set(initialize = [model.s_warehouses.first()])\n",
    "model.ss_SecondWarehouse = pyo.Set(initialize = [model.s_warehouses.last()])\n",
    "\n",
    "model.ss_FirstDay = pyo.Set(initialize = [model.s_days.first()])\n",
    "model.ss_LastDay = pyo.Set(initialize = [model.s_days.last()])\n",
    "model.ss_OtherDays = pyo.Set(initialize = model.s_days ^ model.ss_FirstDay ^ model.ss_LastDay)"
   ]
  },
  {
   "cell_type": "markdown",
   "metadata": {},
   "source": [
    "## Параметры"
   ]
  },
  {
   "cell_type": "markdown",
   "metadata": {},
   "source": [
    "Объявляем стартовые объемы ПХГ"
   ]
  },
  {
   "cell_type": "code",
   "execution_count": 7,
   "metadata": {},
   "outputs": [],
   "source": [
    "model.p_initialSupply = pyo.Param(model.s_warehouses, initialize = {'Tank 1': 450, 'Tank 2': 450})"
   ]
  },
  {
   "cell_type": "markdown",
   "metadata": {},
   "source": [
    "Объявляем потребность по дням"
   ]
  },
  {
   "cell_type": "code",
   "execution_count": 8,
   "metadata": {},
   "outputs": [],
   "source": [
    "model.p_demand = pyo.Param(model.s_days, initialize = df_csv.set_index(['Дата'])['Прогноз отборов'].to_dict())"
   ]
  },
  {
   "cell_type": "markdown",
   "metadata": {},
   "source": [
    "## Переменные"
   ]
  },
  {
   "cell_type": "markdown",
   "metadata": {},
   "source": [
    "Объемы"
   ]
  },
  {
   "cell_type": "code",
   "execution_count": 9,
   "metadata": {},
   "outputs": [],
   "source": [
    "model.v_Volume = pyo.Var(model.s_warehouses, model.s_days, domain=pyo.NonNegativeReals)"
   ]
  },
  {
   "cell_type": "markdown",
   "metadata": {},
   "source": [
    "Продуктивность"
   ]
  },
  {
   "cell_type": "code",
   "execution_count": 10,
   "metadata": {},
   "outputs": [],
   "source": [
    "model.v_Productivity = pyo.Var(model.s_warehouses, model.s_days, domain=pyo.NonNegativeReals)"
   ]
  },
  {
   "cell_type": "markdown",
   "metadata": {},
   "source": [
    "## Ограничения"
   ]
  },
  {
   "cell_type": "code",
   "execution_count": 11,
   "metadata": {},
   "outputs": [],
   "source": [
    "def Productivity_FirstDay_Tank1(model, w, t):\n",
    "    return model.v_Productivity[w, t] <= 5 + 0.0000001 * model.p_initialSupply[w]**3 + 0.00004 * model.p_initialSupply[w]**2 - 0.02 * model.p_initialSupply[w]\n",
    "model.c_Productivity_FirstDay_Tank1 = pyo.Constraint(model.ss_FirstWarehouse, model.ss_FirstDay, rule=Productivity_FirstDay_Tank1)"
   ]
  },
  {
   "cell_type": "code",
   "execution_count": 12,
   "metadata": {},
   "outputs": [],
   "source": [
    "def Productivity_FirstDay_Tank2(model, w, t):\n",
    "    return model.v_Productivity[w, t] <= 10 - 0.00006 * model.p_initialSupply[w]**2 + 0.05 * model.p_initialSupply[w]\n",
    "model.c_Productivity_FirstDay_Tank2 = pyo.Constraint(model.ss_SecondWarehouse, model.ss_FirstDay, rule=Productivity_FirstDay_Tank2)"
   ]
  },
  {
   "cell_type": "code",
   "execution_count": 13,
   "metadata": {},
   "outputs": [],
   "source": [
    "def Productivity_OtherDays_Tank1(model, w, t):\n",
    "    return model.v_Productivity[w, t] <= 5 + 0.0000001 * model.v_Volume[w, t]**3 + 0.00004 * model.v_Volume[w, t]**2 - 0.02 * model.v_Volume[w, t]\n",
    "model.c_Productivity_OtherDays_Tank1 = pyo.Constraint(model.ss_FirstWarehouse, model.ss_OtherDays, rule=Productivity_OtherDays_Tank1)"
   ]
  },
  {
   "cell_type": "code",
   "execution_count": 14,
   "metadata": {},
   "outputs": [],
   "source": [
    "def Productivity_OtherDays_Tank2(model, w, t):\n",
    "    return model.v_Productivity[w, t] <= 10 - 0.00006 * model.v_Volume[w, t]**2 + 0.05 * model.v_Volume[w, t]\n",
    "model.c_Productivity_OtherDays_Tank2 = pyo.Constraint(model.ss_SecondWarehouse, model.ss_OtherDays, rule=Productivity_OtherDays_Tank2)"
   ]
  },
  {
   "cell_type": "code",
   "execution_count": 15,
   "metadata": {},
   "outputs": [],
   "source": [
    "def Productivity_LastDay_Tank1(model, w, t):\n",
    "    return model.v_Productivity[w, t] == 5 + 0.0000001 * model.v_Volume[w, t]**3 + 0.00004 * model.v_Volume[w, t]**2 - 0.02 * model.v_Volume[w, t]\n",
    "model.c_Productivity_LastDay_Tank1 = pyo.Constraint(model.ss_FirstWarehouse, model.ss_LastDay, rule=Productivity_LastDay_Tank1)"
   ]
  },
  {
   "cell_type": "code",
   "execution_count": 16,
   "metadata": {},
   "outputs": [],
   "source": [
    "def Productivity_LastDay_Tank2(model, w, t):\n",
    "    return model.v_Productivity[w, t] == 10 - 0.00006 * model.v_Volume[w, t]**2 + 0.05 * model.v_Volume[w, t]\n",
    "model.c_Productivity_LastDay_Tank2 = pyo.Constraint(model.ss_SecondWarehouse, model.ss_LastDay, rule=Productivity_LastDay_Tank2)"
   ]
  },
  {
   "cell_type": "code",
   "execution_count": 17,
   "metadata": {},
   "outputs": [],
   "source": [
    "def BalanceConstraint(model, w, t):\n",
    "    if t in model.ss_FirstDay: \n",
    "        return model.v_Volume[w, t] == model.p_initialSupply[w] - model.v_Productivity[w, t]\n",
    "    else:\n",
    "        return model.v_Volume[w, t] == model.v_Volume[w, model.s_days.prev(t)] - model.v_Productivity[w, t]\n",
    "model.c_Balance = pyo.Constraint(model.s_warehouses, model.s_days, rule=BalanceConstraint)"
   ]
  },
  {
   "cell_type": "code",
   "execution_count": 18,
   "metadata": {},
   "outputs": [],
   "source": [
    "def ProductivityConstraint(model, t):\n",
    "    return sum(model.v_Productivity[w, t] for w in model.s_warehouses) == model.p_demand[t]\n",
    "model.c_Productivity = pyo.Constraint(model.s_days, rule=ProductivityConstraint)"
   ]
  },
  {
   "cell_type": "markdown",
   "metadata": {},
   "source": [
    "### Dummy-переменная"
   ]
  },
  {
   "cell_type": "code",
   "execution_count": 19,
   "metadata": {},
   "outputs": [],
   "source": [
    "model.v_dummy = pyo.Var(domain = pyo.NonNegativeReals, bounds = (0, 0))"
   ]
  },
  {
   "cell_type": "markdown",
   "metadata": {},
   "source": [
    "## Целевая функция и запуск расчета"
   ]
  },
  {
   "cell_type": "code",
   "execution_count": 20,
   "metadata": {},
   "outputs": [],
   "source": [
    "model.objective = pyo.Objective(expr = 1 * model.v_dummy, sense=pyo.minimize)"
   ]
  },
  {
   "cell_type": "code",
   "execution_count": 21,
   "metadata": {
    "scrolled": false
   },
   "outputs": [
    {
     "name": "stdout",
     "output_type": "stream",
     "text": [
      "Ipopt 3.11.1: \n",
      "\n",
      "******************************************************************************\n",
      "This program contains Ipopt, a library for large-scale nonlinear optimization.\n",
      " Ipopt is released as open source code under the Eclipse Public License (EPL).\n",
      "         For more information visit http://projects.coin-or.org/Ipopt\n",
      "******************************************************************************\n",
      "\n",
      "NOTE: You are using Ipopt by default with the MUMPS linear solver.\n",
      "      Other linear solvers might be more efficient (see Ipopt documentation).\n",
      "\n",
      "\n",
      "This is Ipopt version 3.11.1, running with linear solver mumps.\n",
      "\n",
      "Number of nonzeros in equality constraint Jacobian...:      242\n",
      "Number of nonzeros in inequality constraint Jacobian.:      114\n",
      "Number of nonzeros in Lagrangian Hessian.............:       58\n",
      "\n",
      "Total number of variables............................:      120\n",
      "                     variables with only lower bounds:      120\n",
      "                variables with lower and upper bounds:        0\n",
      "                     variables with only upper bounds:        0\n",
      "Total number of equality constraints.................:       92\n",
      "Total number of inequality constraints...............:       58\n",
      "        inequality constraints with only lower bounds:        0\n",
      "   inequality constraints with lower and upper bounds:        0\n",
      "        inequality constraints with only upper bounds:       58\n",
      "\n",
      "iter    objective    inf_pr   inf_du lg(mu)  ||d||  lg(rg) alpha_du alpha_pr  ls\n",
      "   0 0.0000000e+000 4.50e+002 3.49e-002  -1.0 0.00e+000    -  0.00e+000 0.00e+000   0\n",
      "   1 0.0000000e+000 4.50e+002 2.02e+001  -1.0 4.42e+002    -  2.24e-005 4.80e-004f  1\n",
      "   2 0.0000000e+000 4.35e+002 4.55e+001  -1.0 4.42e+002    -  4.71e-004 3.21e-002f  1\n",
      "   3 0.0000000e+000 3.09e+002 3.25e+001  -1.0 4.28e+002    -  3.06e-002 2.89e-001f  1\n",
      "   4 0.0000000e+000 2.74e+002 2.88e+001  -1.0 3.30e+002    -  9.04e-003 1.13e-001f  1\n",
      "   5 0.0000000e+000 2.64e+002 2.77e+001  -1.0 2.75e+002    -  1.10e-001 3.88e-002h  1\n",
      "   6 0.0000000e+000 2.41e+002 2.53e+001  -1.0 2.64e+002    -  1.95e-001 8.47e-002h  1\n",
      "   7 0.0000000e+000 2.40e+002 2.94e+002  -1.0 2.43e+002    -  4.13e-001 6.93e-003h  1\n",
      "   8 0.0000000e+000 2.39e+002 1.54e+005  -1.0 2.40e+002    -  9.60e-001 1.87e-003h  1\n",
      "   9 0.0000000e+000 2.39e+002 1.58e+009  -1.0 2.39e+002    -  2.16e-001 2.08e-005h  1\n",
      "iter    objective    inf_pr   inf_du lg(mu)  ||d||  lg(rg) alpha_du alpha_pr  ls\n",
      "  10 0.0000000e+000 2.39e+002 1.44e+012  -1.0 2.28e+002    -  1.59e-003 1.73e-006H  1\n",
      "  11 0.0000000e+000 2.35e+002 6.84e+013  -1.0 5.12e+002    -  7.20e-001 1.48e-002h  1\n",
      "  12 0.0000000e+000 2.31e+002 4.05e+010  -1.0 4.05e+000  10.0 1.00e+000 1.00e+000h  1\n",
      "  13 0.0000000e+000 2.28e+002 7.96e+010  -1.0 3.00e+000  10.4 1.00e+000 9.91e-001h  1\n",
      "  14 0.0000000e+000 2.27e+002 8.40e+010  -1.0 1.29e+001   9.9 1.00e+000 1.25e-001h  4\n",
      "  15 0.0000000e+000 2.27e+002 8.08e+013  -1.0 2.38e+002    -  1.15e-001 1.82e-003h  1\n",
      "  16 0.0000000e+000 2.27e+002 7.38e+013  -1.0 2.56e+002    -  6.17e-001 6.92e-003h  1\n",
      "In iteration 16, 28 Slacks too small, adjusting variable bounds\n",
      "  17 0.0000000e+000 2.27e+002 1.25e+013  -1.0 2.32e+002    -  3.55e-003 2.32e-001h  1\n",
      "  18 0.0000000e+000 2.27e+002 2.35e+013  -1.0 1.76e+002    -  3.68e-001 4.95e-001F  1\n",
      "  19 0.0000000e+000 2.27e+002 2.30e+013  -1.0 3.97e+003  10.4 2.19e-002 2.95e-002h  2\n",
      "iter    objective    inf_pr   inf_du lg(mu)  ||d||  lg(rg) alpha_du alpha_pr  ls\n",
      "  20 0.0000000e+000 2.20e+002 2.28e+013  -1.0 1.02e+003    -  1.05e-002 6.97e-003h  1\n",
      "  21 0.0000000e+000 2.20e+002 5.50e+013  -1.0 1.39e+002    -  2.46e-005 2.21e-001f  1\n",
      "  22 0.0000000e+000 2.19e+002 5.50e+013  -1.0 2.35e+001  11.7 5.45e-007 1.00e+000f  1\n",
      "  23 0.0000000e+000 1.55e+002 4.72e+013  -1.0 1.92e+002    -  2.39e-005 3.15e-001f  1\n",
      "  24 0.0000000e+000 1.44e+002 4.67e+013  -1.0 2.05e+002    -  1.65e-002 7.53e-002h  1\n",
      "  25 0.0000000e+000 1.44e+002 4.26e+013  -1.0 2.23e+002    -  7.74e-002 6.63e-004h  1\n",
      "  26r0.0000000e+000 1.44e+002 1.00e+003   2.2 0.00e+000    -  0.00e+000 4.17e-007R  5\n",
      "  27r0.0000000e+000 5.88e+001 2.03e+003   2.2 3.08e+004    -  9.52e-001 2.86e-003f  1\n",
      "  28 0.0000000e+000 5.87e+001 3.08e+000  -1.0 2.67e+002    -  6.63e-004 2.06e-003f  1\n",
      "  29 0.0000000e+000 5.74e+001 7.14e+000  -1.0 1.42e+002    -  5.42e-005 2.13e-002f  1\n",
      "iter    objective    inf_pr   inf_du lg(mu)  ||d||  lg(rg) alpha_du alpha_pr  ls\n",
      "  30 0.0000000e+000 5.02e+001 6.83e+000  -1.0 1.42e+002    -  1.20e-002 1.26e-001f  1\n",
      "  31 0.0000000e+000 4.61e+001 6.27e+000  -1.0 1.42e+002    -  4.20e-002 8.17e-002f  1\n",
      "  32 0.0000000e+000 4.10e+001 5.57e+000  -1.0 1.44e+002    -  5.45e-002 1.12e-001f  1\n",
      "  33 0.0000000e+000 3.62e+001 4.93e+000  -1.0 1.49e+002    -  8.45e-002 1.15e-001h  1\n",
      "  34 0.0000000e+000 3.17e+001 4.32e+000  -1.0 1.66e+002    -  9.12e-002 1.25e-001h  1\n",
      "  35 0.0000000e+000 2.85e+001 3.88e+000  -1.0 2.10e+002    -  1.19e-001 1.02e-001h  1\n",
      "  36 0.0000000e+000 2.57e+001 9.45e+000  -1.0 2.77e+002    -  1.21e-001 9.77e-002h  1\n",
      "  37 0.0000000e+000 2.49e+001 1.30e+001  -1.0 4.46e+002    -  4.52e-002 3.12e-002h  1\n",
      "  38 0.0000000e+000 2.45e+001 1.80e+001  -1.0 6.16e+002    -  2.61e-002 1.79e-002h  1\n",
      "  39 0.0000000e+000 2.45e+001 1.34e+003  -1.0 8.39e+002    -  2.17e-002 1.34e-004h  1\n",
      "iter    objective    inf_pr   inf_du lg(mu)  ||d||  lg(rg) alpha_du alpha_pr  ls\n",
      "  40r0.0000000e+000 2.45e+001 1.00e+003   1.4 0.00e+000    -  0.00e+000 3.34e-007R  3\n",
      "  41r0.0000000e+000 2.18e+001 9.96e+002   1.4 8.80e+003    -  1.24e-002 2.03e-003f  1\n",
      "  42 0.0000000e+000 2.17e+001 6.47e+006  -1.0 4.08e+003    -  2.91e-007 4.54e-003f  1\n",
      "  43 0.0000000e+000 2.17e+001 6.17e+006  -1.0 3.54e+003    -  4.26e-004 7.65e-004h  3\n",
      "  44 0.0000000e+000 2.17e+001 5.11e+006  -1.0 5.24e+003    -  1.41e-004 7.28e-004f  3\n",
      "  45 0.0000000e+000 2.17e+001 4.96e+006  -1.0 1.30e+004    -  6.94e-004 5.54e-005h  5\n",
      "  46 0.0000000e+000 2.17e+001 4.06e+006  -1.0 1.26e+004    -  5.60e-004 1.09e-004h  4\n",
      "  47 0.0000000e+000 2.17e+001 3.12e+006  -1.0 2.88e+004    -  7.21e-004 2.08e-005h  5\n",
      "  48 0.0000000e+000 2.16e+001 3.89e+009  -1.0 2.31e-002  11.2 9.91e-001 1.00e+000h  1\n",
      "  49 0.0000000e+000 2.13e+001 3.85e+009  -1.0 1.92e+002    -  2.38e-005 1.20e-002f  1\n",
      "iter    objective    inf_pr   inf_du lg(mu)  ||d||  lg(rg) alpha_du alpha_pr  ls\n",
      "  50 0.0000000e+000 2.13e+001 3.83e+009  -1.0 2.88e+002    -  4.32e-003 3.67e-003h  1\n",
      "  51 0.0000000e+000 2.11e+001 3.80e+009  -1.0 4.28e+001    -  2.07e-002 7.71e-003f  1\n",
      "  52 0.0000000e+000 2.11e+001 3.86e+009  -1.0 1.34e-001  10.7 7.43e-001 1.63e-002h  1\n",
      "  53r0.0000000e+000 2.11e+001 1.00e+003   1.3 0.00e+000  10.3 0.00e+000 2.62e-007R 11\n",
      "  54r0.0000000e+000 6.48e+000 9.90e+002   1.3 2.23e+003    -  3.13e-002 7.47e-003f  1\n",
      "  55 0.0000000e+000 6.38e+000 1.31e+002  -1.0 7.29e+002    -  1.43e-002 1.56e-002f  1\n",
      "  56 0.0000000e+000 6.30e+000 1.30e+002  -1.0 9.28e+002    -  1.08e-002 1.24e-002f  2\n",
      "  57 0.0000000e+000 6.27e+000 1.27e+002  -1.0 1.39e+003    -  2.07e-002 4.29e-003h  2\n",
      "  58 0.0000000e+000 6.26e+000 1.24e+002  -1.0 1.89e+003    -  8.85e-003 1.61e-003h  2\n",
      "  59 0.0000000e+000 6.25e+000 1.01e+002  -1.0 2.31e+003    -  1.00e-002 1.34e-003h  1\n",
      "iter    objective    inf_pr   inf_du lg(mu)  ||d||  lg(rg) alpha_du alpha_pr  ls\n",
      "  60 0.0000000e+000 6.25e+000 8.09e+001  -1.0 2.23e+003    -  2.29e-004 1.30e-004h  1\n",
      "  61 0.0000000e+000 6.24e+000 1.03e+002  -1.0 2.45e+003    -  4.97e-005 2.08e-003f  1\n",
      "  62r0.0000000e+000 6.24e+000 9.99e+002   0.8 0.00e+000    -  0.00e+000 2.72e-007R  6\n",
      "  63r0.0000000e+000 2.28e+000 9.97e+002   0.8 2.94e+003    -  1.91e-003 2.11e-003f  1\n",
      "  64 0.0000000e+000 2.28e+000 1.04e+000  -1.0 1.36e+003    -  6.44e-005 6.70e-005h  1\n",
      "  65 0.0000000e+000 2.27e+000 3.15e+000  -1.0 1.37e+003    -  4.77e-005 4.56e-003f  1\n",
      "  66 0.0000000e+000 2.27e+000 9.87e+000  -1.0 3.11e+003    -  1.17e-003 1.96e-003f  1\n",
      "  67 0.0000000e+000 2.27e+000 9.56e+000  -1.0 1.26e+004    -  9.28e-004 3.30e-005h  1\n",
      "  68 0.0000000e+000 2.27e+000 9.16e+000  -1.0 2.06e+004    -  1.44e-004 1.68e-005h  3\n",
      "  69 0.0000000e+000 2.27e+000 6.99e+000  -1.0 3.74e+004    -  6.43e-006 1.34e-005f  4\n",
      "iter    objective    inf_pr   inf_du lg(mu)  ||d||  lg(rg) alpha_du alpha_pr  ls\n",
      "  70r0.0000000e+000 2.27e+000 9.99e+002   0.4 0.00e+000    -  0.00e+000 8.42e-009R  2\n",
      "  71r0.0000000e+000 2.29e+000 9.98e+002   0.4 4.29e+003    -  2.45e-003 1.37e-003f  1\n",
      "  72r0.0000000e+000 2.20e+000 9.95e+002   0.4 2.27e+002    -  1.99e-002 2.87e-003f  1\n",
      "  73r0.0000000e+000 2.01e+000 9.73e+002   0.4 1.13e+002    -  1.85e-003 2.49e-002f  1\n",
      "  74r0.0000000e+000 2.01e+000 9.99e+002   0.3 0.00e+000    -  0.00e+000 3.98e-007R  7\n",
      "  75r0.0000000e+000 1.99e+000 9.85e+002   0.3 3.52e+001    -  5.32e-001 1.33e-002f  1\n",
      "  76r0.0000000e+000 1.76e+000 4.47e+002   0.3 7.18e+000    -  1.50e-001 5.46e-001f  1\n",
      "  77 0.0000000e+000 1.76e+000 1.83e+000  -1.0 3.12e+003    -  2.23e-003 1.21e-004h  4\n",
      "  78 0.0000000e+000 1.76e+000 7.18e+000  -1.0 3.39e+003    -  9.03e-003 4.85e-005h  6\n",
      "  79 0.0000000e+000 1.76e+000 1.73e+001  -1.0 3.61e+003    -  9.39e-003 1.92e-005h  9\n",
      "iter    objective    inf_pr   inf_du lg(mu)  ||d||  lg(rg) alpha_du alpha_pr  ls\n",
      "  80 0.0000000e+000 1.84e+000 1.88e+002  -1.0 4.19e+003    -  7.56e-003 7.56e-003s 16\n",
      "  81 0.0000000e+000 1.83e+000 7.26e+001  -1.0 8.50e+002    -  2.75e-002 2.75e-002s 16\n",
      "  82r0.0000000e+000 1.83e+000 9.99e+002   0.3 0.00e+000    -  0.00e+000 0.00e+000R  1\n",
      "  83r0.0000000e+000 1.83e+000 9.91e+002   0.3 3.20e+001    -  2.35e-001 7.52e-003f  1\n",
      "  84r0.0000000e+000 1.71e+000 7.44e+002   0.3 4.58e+000    -  8.27e-001 2.50e-001f  1\n",
      "  85r0.0000000e+000 1.40e+000 6.78e+001   0.3 8.00e+000    -  4.86e-001 1.00e+000f  1\n",
      "  86 0.0000000e+000 1.40e+000 1.09e+001  -1.0 4.62e+003    -  1.05e-003 1.05e-003s 13\n",
      "  87 0.0000000e+000 1.40e+000 1.09e+001  -1.0 1.87e+004    -  5.32e-005 5.32e-005s 13\n",
      "  88r0.0000000e+000 1.40e+000 9.99e+002   0.1 0.00e+000    -  0.00e+000 0.00e+000R  1\n",
      "  89r0.0000000e+000 1.36e+000 8.69e+002   0.1 2.51e+001    -  4.56e-001 1.30e-001f  1\n",
      "iter    objective    inf_pr   inf_du lg(mu)  ||d||  lg(rg) alpha_du alpha_pr  ls\n",
      "  90r0.0000000e+000 1.89e+000 6.82e+002   0.1 8.50e+000    -  9.87e-003 2.16e-001f  1\n",
      "  91r0.0000000e+000 2.10e+000 6.40e+002   0.1 6.05e+000    -  8.56e-001 4.22e-002f  1\n",
      "  92r0.0000000e+000 2.08e+000 1.32e-001   0.1 2.74e+000    -  1.00e+000 1.00e+000f  1\n",
      "  93r0.0000000e+000 2.14e+000 9.53e-001  -1.3 2.72e+000    -  9.07e-001 1.00e+000f  1\n",
      "  94r0.0000000e+000 2.14e+000 1.09e-001  -2.0 1.51e+000    -  1.00e+000 1.00e+000f  1\n",
      "  95r0.0000000e+000 2.14e+000 4.09e-002  -2.9 7.84e-001    -  1.00e+000 1.00e+000f  1\n",
      "  96r0.0000000e+000 2.14e+000 1.19e-002  -4.4 2.22e-001    -  1.00e+000 1.00e+000f  1\n",
      "  97r0.0000000e+000 2.14e+000 5.76e-007  -4.4 7.14e-002    -  1.00e+000 1.00e+000h  1\n",
      "  98r0.0000000e+000 2.14e+000 9.61e-004  -6.6 1.96e-001    -  9.57e-001 1.00e+000f  1\n",
      "  99r0.0000000e+000 2.14e+000 2.18e-008  -6.6 1.51e-002    -  1.00e+000 1.00e+000h  1\n",
      "iter    objective    inf_pr   inf_du lg(mu)  ||d||  lg(rg) alpha_du alpha_pr  ls\n",
      " 100r0.0000000e+000 2.14e+000 3.22e-010  -6.6 9.02e-002    -  1.00e+000 1.00e+000H  1\n",
      " 101r0.0000000e+000 2.14e+000 6.53e-005  -9.0 4.65e-002    -  9.98e-001 1.00e+000f  1\n",
      "\n",
      "Number of Iterations....: 101\n",
      "\n",
      "                                   (scaled)                 (unscaled)\n",
      "Objective...............:  0.0000000000000000e+000   0.0000000000000000e+000\n",
      "Dual infeasibility......:  4.0865241971020422e-006   4.0865241971020422e-006\n",
      "Constraint violation....:  2.1434132144865359e+000   2.1434132144865359e+000\n",
      "Complementarity.........:  6.0149267008307627e-008   6.0149267008307627e-008\n",
      "Overall NLP error.......:  2.1434132144865359e+000   2.1434132144865359e+000\n",
      "\n",
      "\n",
      "Number of objective function evaluations             = 230\n",
      "Number of objective gradient evaluations             = 85\n",
      "Number of equality constraint evaluations            = 230\n",
      "Number of inequality constraint evaluations          = 230\n",
      "Number of equality constraint Jacobian evaluations   = 111\n",
      "Number of inequality constraint Jacobian evaluations = 111\n",
      "Number of Lagrangian Hessian evaluations             = 102\n",
      "Total CPU secs in IPOPT (w/o function evaluations)   =      0.230\n",
      "Total CPU secs in NLP function evaluations           =      0.002\n",
      "\n",
      "EXIT: Converged to a point of local infeasibility. Problem may be infeasible.\n"
     ]
    },
    {
     "name": "stdout",
     "output_type": "stream",
     "text": [
      "WARNING: Loading a SolverResults object with a warning status into\n",
      "model.name=\"Gas demand problem\";\n",
      "    - termination condition: infeasible\n",
      "    - message from solver: Ipopt 3.11.1\\x3a Converged to a locally infeasible\n",
      "      point. Problem may be infeasible.\n"
     ]
    },
    {
     "data": {
      "text/plain": [
       "{'Problem': [{'Lower bound': -inf, 'Upper bound': inf, 'Number of objectives': 1, 'Number of constraints': 150, 'Number of variables': 121, 'Sense': 'unknown'}], 'Solver': [{'Status': 'warning', 'Message': 'Ipopt 3.11.1\\\\x3a Converged to a locally infeasible point. Problem may be infeasible.', 'Termination condition': 'infeasible', 'Id': 200, 'Error rc': 0, 'Time': 0.9321415424346924}], 'Solution': [OrderedDict([('number of solutions', 0), ('number of solutions displayed', 0)])]}"
      ]
     },
     "execution_count": 21,
     "metadata": {},
     "output_type": "execute_result"
    }
   ],
   "source": [
    "SolverFactory('ipopt').solve(model, tee = True) "
   ]
  },
  {
   "cell_type": "markdown",
   "metadata": {},
   "source": [
    "Ожидаемо ноль"
   ]
  },
  {
   "cell_type": "code",
   "execution_count": 22,
   "metadata": {},
   "outputs": [
    {
     "data": {
      "text/plain": [
       "0.0"
      ]
     },
     "execution_count": 22,
     "metadata": {},
     "output_type": "execute_result"
    }
   ],
   "source": [
    "model.objective()"
   ]
  },
  {
   "cell_type": "code",
   "execution_count": 23,
   "metadata": {},
   "outputs": [
    {
     "name": "stdout",
     "output_type": "stream",
     "text": [
      "Model Gas demand problem\n",
      "\n",
      "  Variables:\n",
      "    v_Volume : Size=60, Index=v_Volume_index\n",
      "        Key                      : Lower : Value              : Upper : Fixed : Stale : Domain\n",
      "        ('Tank 1', '2021-11-01') :     0 : 445.27563347201254 :  None : False : False : NonNegativeReals\n",
      "        ('Tank 1', '2021-11-02') :     0 : 438.50276325388245 :  None : False : False : NonNegativeReals\n",
      "        ('Tank 1', '2021-11-03') :     0 :  432.5918299578894 :  None : False : False : NonNegativeReals\n",
      "        ('Tank 1', '2021-11-04') :     0 : 427.07515619111723 :  None : False : False : NonNegativeReals\n",
      "        ('Tank 1', '2021-11-05') :     0 :  422.3058509362075 :  None : False : False : NonNegativeReals\n",
      "        ('Tank 1', '2021-11-06') :     0 :  417.7957143397581 :  None : False : False : NonNegativeReals\n",
      "        ('Tank 1', '2021-11-07') :     0 : 413.91326367752316 :  None : False : False : NonNegativeReals\n",
      "        ('Tank 1', '2021-11-08') :     0 :   410.501089638594 :  None : False : False : NonNegativeReals\n",
      "        ('Tank 1', '2021-11-09') :     0 : 407.52521179383746 :  None : False : False : NonNegativeReals\n",
      "        ('Tank 1', '2021-11-10') :     0 :  404.8435905020677 :  None : False : False : NonNegativeReals\n",
      "        ('Tank 1', '2021-11-11') :     0 :  402.8278860202036 :  None : False : False : NonNegativeReals\n",
      "        ('Tank 1', '2021-11-12') :     0 :  401.0104871713105 :  None : False : False : NonNegativeReals\n",
      "        ('Tank 1', '2021-11-13') :     0 :  399.4379772684074 :  None : False : False : NonNegativeReals\n",
      "        ('Tank 1', '2021-11-14') :     0 :  398.0079714012502 :  None : False : False : NonNegativeReals\n",
      "        ('Tank 1', '2021-11-15') :     0 :  396.6675637722036 :  None : False : False : NonNegativeReals\n",
      "        ('Tank 1', '2021-11-16') :     0 :  395.3515875804447 :  None : False : False : NonNegativeReals\n",
      "        ('Tank 1', '2021-11-17') :     0 :  394.0376119049362 :  None : False : False : NonNegativeReals\n",
      "        ('Tank 1', '2021-11-18') :     0 : 392.66368523123043 :  None : False : False : NonNegativeReals\n",
      "        ('Tank 1', '2021-11-19') :     0 :  391.1339951440185 :  None : False : False : NonNegativeReals\n",
      "        ('Tank 1', '2021-11-20') :     0 :  389.6228657105231 :  None : False : False : NonNegativeReals\n",
      "        ('Tank 1', '2021-11-21') :     0 :  388.9643353002061 :  None : False : False : NonNegativeReals\n",
      "        ('Tank 1', '2021-11-22') :     0 :  386.6920808888105 :  None : False : False : NonNegativeReals\n",
      "        ('Tank 1', '2021-11-23') :     0 :  383.9785962821613 :  None : False : False : NonNegativeReals\n",
      "        ('Tank 1', '2021-11-24') :     0 :  380.8813062926734 :  None : False : False : NonNegativeReals\n",
      "        ('Tank 1', '2021-11-25') :     0 : 377.34091442810137 :  None : False : False : NonNegativeReals\n",
      "        ('Tank 1', '2021-11-26') :     0 :    373.39808763174 :  None : False : False : NonNegativeReals\n",
      "        ('Tank 1', '2021-11-27') :     0 : 368.95554213756674 :  None : False : False : NonNegativeReals\n",
      "        ('Tank 1', '2021-11-28') :     0 : 363.99913200254633 :  None : False : False : NonNegativeReals\n",
      "        ('Tank 1', '2021-11-29') :     0 :  359.0943539669455 :  None : False : False : NonNegativeReals\n",
      "        ('Tank 1', '2021-11-30') :     0 : 351.82471459194596 :  None : False : False : NonNegativeReals\n",
      "        ('Tank 2', '2021-11-01') :     0 : 439.26436652798725 :  None : False : False : NonNegativeReals\n",
      "        ('Tank 2', '2021-11-02') :     0 : 430.10723674611717 :  None : False : False : NonNegativeReals\n",
      "        ('Tank 2', '2021-11-03') :     0 :    419.60817004211 :  None : False : False : NonNegativeReals\n",
      "        ('Tank 2', '2021-11-04') :     0 : 408.22484380888193 :  None : False : False : NonNegativeReals\n",
      "        ('Tank 2', '2021-11-05') :     0 :  395.9941490637914 :  None : False : False : NonNegativeReals\n",
      "        ('Tank 2', '2021-11-06') :     0 : 383.50428566024055 :  None : False : False : NonNegativeReals\n",
      "        ('Tank 2', '2021-11-07') :     0 : 370.38673632247526 :  None : False : False : NonNegativeReals\n",
      "        ('Tank 2', '2021-11-08') :     0 :  356.7989103614042 :  None : False : False : NonNegativeReals\n",
      "        ('Tank 2', '2021-11-09') :     0 : 342.77478820616045 :  None : False : False : NonNegativeReals\n",
      "        ('Tank 2', '2021-11-10') :     0 :    328.45640949793 :  None : False : False : NonNegativeReals\n",
      "        ('Tank 2', '2021-11-11') :     0 : 313.47211397979385 :  None : False : False : NonNegativeReals\n",
      "        ('Tank 2', '2021-11-12') :     0 :  298.2895128286867 :  None : False : False : NonNegativeReals\n",
      "        ('Tank 2', '2021-11-13') :     0 :  282.8620227315896 :  None : False : False : NonNegativeReals\n",
      "        ('Tank 2', '2021-11-14') :     0 :  267.2920285987465 :  None : False : False : NonNegativeReals\n",
      "        ('Tank 2', '2021-11-15') :     0 : 251.63243622779288 :  None : False : False : NonNegativeReals\n",
      "        ('Tank 2', '2021-11-16') :     0 :  235.9484124195516 :  None : False : False : NonNegativeReals\n",
      "        ('Tank 2', '2021-11-17') :     0 :  220.2623880950598 :  None : False : False : NonNegativeReals\n",
      "        ('Tank 2', '2021-11-18') :     0 : 204.63631476876535 :  None : False : False : NonNegativeReals\n",
      "        ('Tank 2', '2021-11-19') :     0 : 189.16600485597706 :  None : False : False : NonNegativeReals\n",
      "        ('Tank 2', '2021-11-20') :     0 :  173.6771342894722 :  None : False : False : NonNegativeReals\n",
      "        ('Tank 2', '2021-11-21') :     0 :   157.335664699789 :  None : False : False : NonNegativeReals\n",
      "        ('Tank 2', '2021-11-22') :     0 : 142.60791911118437 :  None : False : False : NonNegativeReals\n",
      "        ('Tank 2', '2021-11-23') :     0 : 128.32140371783333 :  None : False : False : NonNegativeReals\n",
      "        ('Tank 2', '2021-11-24') :     0 : 114.41869370732097 :  None : False : False : NonNegativeReals\n",
      "        ('Tank 2', '2021-11-25') :     0 : 100.95908557189276 :  None : False : False : NonNegativeReals\n",
      "        ('Tank 2', '2021-11-26') :     0 :   87.9019123682539 :  None : False : False : NonNegativeReals\n",
      "        ('Tank 2', '2021-11-27') :     0 :   75.3444578624269 :  None : False : False : NonNegativeReals\n",
      "        ('Tank 2', '2021-11-28') :     0 :   63.3008679974471 :  None : False : False : NonNegativeReals\n",
      "        ('Tank 2', '2021-11-29') :     0 :  51.20564603304767 :  None : False : False : NonNegativeReals\n",
      "        ('Tank 2', '2021-11-30') :     0 :  39.33187219356057 :  None : False : False : NonNegativeReals\n",
      "    v_Productivity : Size=60, Index=v_Productivity_index\n",
      "        Key                      : Lower : Value              : Upper : Fixed : Stale : Domain\n",
      "        ('Tank 1', '2021-11-01') :     0 : 4.7243665279873746 :  None : False : False : NonNegativeReals\n",
      "        ('Tank 1', '2021-11-02') :     0 :  6.772870218130085 :  None : False : False : NonNegativeReals\n",
      "        ('Tank 1', '2021-11-03') :     0 :  5.910933295992957 :  None : False : False : NonNegativeReals\n",
      "        ('Tank 1', '2021-11-04') :     0 :  5.516673766772102 :  None : False : False : NonNegativeReals\n",
      "        ('Tank 1', '2021-11-05') :     0 :  4.769305254909627 :  None : False : False : NonNegativeReals\n",
      "        ('Tank 1', '2021-11-06') :     0 :  4.510136596449345 :  None : False : False : NonNegativeReals\n",
      "        ('Tank 1', '2021-11-07') :     0 : 3.8824506622348305 :  None : False : False : NonNegativeReals\n",
      "        ('Tank 1', '2021-11-08') :     0 :  3.412174038929089 :  None : False : False : NonNegativeReals\n",
      "        ('Tank 1', '2021-11-09') :     0 :  2.975877844756438 :  None : False : False : NonNegativeReals\n",
      "        ('Tank 1', '2021-11-10') :     0 : 2.6816212917696935 :  None : False : False : NonNegativeReals\n",
      "        ('Tank 1', '2021-11-11') :     0 :  2.015704481864039 :  None : False : False : NonNegativeReals\n",
      "        ('Tank 1', '2021-11-12') :     0 : 1.8173988488930055 :  None : False : False : NonNegativeReals\n",
      "        ('Tank 1', '2021-11-13') :     0 : 1.5725099029030258 :  None : False : False : NonNegativeReals\n",
      "        ('Tank 1', '2021-11-14') :     0 : 1.4300058671571105 :  None : False : False : NonNegativeReals\n",
      "        ('Tank 1', '2021-11-15') :     0 : 1.3404076290465188 :  None : False : False : NonNegativeReals\n",
      "        ('Tank 1', '2021-11-16') :     0 : 1.3159761917588635 :  None : False : False : NonNegativeReals\n",
      "        ('Tank 1', '2021-11-17') :     0 : 1.3139756755083483 :  None : False : False : NonNegativeReals\n",
      "        ('Tank 1', '2021-11-18') :     0 :  1.373926673705717 :  None : False : False : NonNegativeReals\n",
      "        ('Tank 1', '2021-11-19') :     0 : 1.5296900872118686 :  None : False : False : NonNegativeReals\n",
      "        ('Tank 1', '2021-11-20') :     0 : 1.5111294334953096 :  None : False : False : NonNegativeReals\n",
      "        ('Tank 1', '2021-11-21') :     0 : 0.6585304103169426 :  None : False : False : NonNegativeReals\n",
      "        ('Tank 1', '2021-11-22') :     0 : 2.2722544113955236 :  None : False : False : NonNegativeReals\n",
      "        ('Tank 1', '2021-11-23') :     0 :  2.713484606649129 :  None : False : False : NonNegativeReals\n",
      "        ('Tank 1', '2021-11-24') :     0 : 3.0972899894877886 :  None : False : False : NonNegativeReals\n",
      "        ('Tank 1', '2021-11-25') :     0 :  3.540391864571944 :  None : False : False : NonNegativeReals\n",
      "        ('Tank 1', '2021-11-26') :     0 : 3.9428267963612997 :  None : False : False : NonNegativeReals\n",
      "        ('Tank 1', '2021-11-27') :     0 :  4.442545494173169 :  None : False : False : NonNegativeReals\n",
      "        ('Tank 1', '2021-11-28') :     0 :  4.956410135020347 :  None : False : False : NonNegativeReals\n",
      "        ('Tank 1', '2021-11-29') :     0 : 4.9047780356007324 :  None : False : False : NonNegativeReals\n",
      "        ('Tank 1', '2021-11-30') :     0 :  7.269639374999509 :  None : False : False : NonNegativeReals\n",
      "        ('Tank 2', '2021-11-01') :     0 : 10.735633472012704 :  None : False : False : NonNegativeReals\n",
      "        ('Tank 2', '2021-11-02') :     0 :  9.157129781869994 :  None : False : False : NonNegativeReals\n",
      "        ('Tank 2', '2021-11-03') :     0 : 10.499066704007124 :  None : False : False : NonNegativeReals\n",
      "        ('Tank 2', '2021-11-04') :     0 : 11.383326233227976 :  None : False : False : NonNegativeReals\n",
      "        ('Tank 2', '2021-11-05') :     0 : 12.230694745090451 :  None : False : False : NonNegativeReals\n",
      "        ('Tank 2', '2021-11-06') :     0 : 12.489863403550732 :  None : False : False : NonNegativeReals\n",
      "        ('Tank 2', '2021-11-07') :     0 : 13.117549337765249 :  None : False : False : NonNegativeReals\n",
      "        ('Tank 2', '2021-11-08') :     0 :  13.58782596107099 :  None : False : False : NonNegativeReals\n",
      "        ('Tank 2', '2021-11-09') :     0 : 14.024122155243642 :  None : False : False : NonNegativeReals\n",
      "        ('Tank 2', '2021-11-10') :     0 : 14.318378708230385 :  None : False : False : NonNegativeReals\n",
      "        ('Tank 2', '2021-11-11') :     0 : 14.984295518136038 :  None : False : False : NonNegativeReals\n",
      "        ('Tank 2', '2021-11-12') :     0 : 15.182601151107072 :  None : False : False : NonNegativeReals\n",
      "        ('Tank 2', '2021-11-13') :     0 : 15.427490097097053 :  None : False : False : NonNegativeReals\n",
      "        ('Tank 2', '2021-11-14') :     0 : 15.569994132842968 :  None : False : False : NonNegativeReals\n",
      "        ('Tank 2', '2021-11-15') :     0 : 15.659592370953561 :  None : False : False : NonNegativeReals\n",
      "        ('Tank 2', '2021-11-16') :     0 : 15.684023808241216 :  None : False : False : NonNegativeReals\n",
      "        ('Tank 2', '2021-11-17') :     0 :  15.68602432449173 :  None : False : False : NonNegativeReals\n",
      "        ('Tank 2', '2021-11-18') :     0 :  15.62607332629436 :  None : False : False : NonNegativeReals\n",
      "        ('Tank 2', '2021-11-19') :     0 : 15.470309912788208 :  None : False : False : NonNegativeReals\n",
      "        ('Tank 2', '2021-11-20') :     0 : 15.488870566504769 :  None : False : False : NonNegativeReals\n",
      "        ('Tank 2', '2021-11-21') :     0 : 16.341469589683136 :  None : False : False : NonNegativeReals\n",
      "        ('Tank 2', '2021-11-22') :     0 : 14.727745588604556 :  None : False : False : NonNegativeReals\n",
      "        ('Tank 2', '2021-11-23') :     0 : 14.286515393350948 :  None : False : False : NonNegativeReals\n",
      "        ('Tank 2', '2021-11-24') :     0 : 13.902710010512289 :  None : False : False : NonNegativeReals\n",
      "        ('Tank 2', '2021-11-25') :     0 : 13.459608135428136 :  None : False : False : NonNegativeReals\n",
      "        ('Tank 2', '2021-11-26') :     0 :  13.05717320363878 :  None : False : False : NonNegativeReals\n",
      "        ('Tank 2', '2021-11-27') :     0 :  12.55745450582691 :  None : False : False : NonNegativeReals\n",
      "        ('Tank 2', '2021-11-28') :     0 : 12.043589864979731 :  None : False : False : NonNegativeReals\n",
      "        ('Tank 2', '2021-11-29') :     0 : 12.095221964399347 :  None : False : False : NonNegativeReals\n",
      "        ('Tank 2', '2021-11-30') :     0 : 11.873773839487027 :  None : False : False : NonNegativeReals\n",
      "    v_dummy : Size=1, Index=None\n",
      "        Key  : Lower : Value : Upper : Fixed : Stale : Domain\n",
      "        None :     0 :   0.0 :     0 : False : False : NonNegativeReals\n",
      "\n",
      "  Objectives:\n",
      "    objective : Size=1, Index=None, Active=True\n",
      "        Key  : Active : Value\n",
      "        None :   True :   0.0\n",
      "\n",
      "  Constraints:\n",
      "    c_Productivity_FirstDay_Tank1 : Size=1\n",
      "        Key                      : Lower : Body               : Upper\n",
      "        ('Tank 1', '2021-11-01') :  None : 4.7243665279873746 : 13.212499999999999\n",
      "    c_Productivity_FirstDay_Tank2 : Size=1\n",
      "        Key                      : Lower : Body               : Upper\n",
      "        ('Tank 2', '2021-11-01') :  None : 10.735633472012704 : 20.35\n",
      "    c_Productivity_OtherDays_Tank1 : Size=28\n",
      "        Key                      : Lower : Body                : Upper\n",
      "        ('Tank 1', '2021-11-02') :  None : -5.5801975129504955 :   0.0\n",
      "        ('Tank 1', '2021-11-03') :  None :  -6.017994875695613 :   0.0\n",
      "        ('Tank 1', '2021-11-04') :  None :  -6.027110640392595 :   0.0\n",
      "        ('Tank 1', '2021-11-05') :  None :  -6.449763788833614 :   0.0\n",
      "        ('Tank 1', '2021-11-06') :  None :  -6.408839823691598 :   0.0\n",
      "        ('Tank 1', '2021-11-07') :  None :  -6.783587114838586 :   0.0\n",
      "        ('Tank 1', '2021-11-08') :  None :  -7.035650799305733 :   0.0\n",
      "        ('Tank 1', '2021-11-09') :  None :  -7.284738087261351 :   0.0\n",
      "        ('Tank 1', '2021-11-10') :  None : -7.4127591606286645 :   0.0\n",
      "        ('Tank 1', '2021-11-11') :  None :  -7.955250451086395 :   0.0\n",
      "        ('Tank 1', '2021-11-12') :  None :  -8.043393858056625 :   0.0\n",
      "        ('Tank 1', '2021-11-13') :  None :  -8.193819254576962 :   0.0\n",
      "        ('Tank 1', '2021-11-14') :  None :  -8.251106534915625 :   0.0\n",
      "        ('Tank 1', '2021-11-15') :  None :  -8.261419317565514 :   0.0\n",
      "        ('Tank 1', '2021-11-16') :  None :  -8.208566256983602 :   0.0\n",
      "        ('Tank 1', '2021-11-17') :  None :  -8.133947853942722 :   0.0\n",
      "        ('Tank 1', '2021-11-18') :  None : -7.9944663973128565 :   0.0\n",
      "        ('Tank 1', '2021-11-19') :  None :  -7.750856896011147 :   0.0\n",
      "        ('Tank 1', '2021-11-20') :  None :  -7.683360349622479 :   0.0\n",
      "        ('Tank 1', '2021-11-21') :  None :  -8.498681052123384 :   0.0\n",
      "        ('Tank 1', '2021-11-22') :  None :  -6.757370871510554 :   0.0\n",
      "        ('Tank 1', '2021-11-23') :  None :  -6.165889584609465 :   0.0\n",
      "        ('Tank 1', '2021-11-24') :  None :  -5.613373464926105 :   0.0\n",
      "        ('Tank 1', '2021-11-25') :  None : -4.9810490716925475 :   0.0\n",
      "        ('Tank 1', '2021-11-26') :  None :  -4.372401824643105 :   0.0\n",
      "        ('Tank 1', '2021-11-27') :  None : -3.6459964367244257 :   0.0\n",
      "        ('Tank 1', '2021-11-28') :  None : -2.8862418470980984 :   0.0\n",
      "        ('Tank 1', '2021-11-29') :  None :  -2.701762076083722 :   0.0\n",
      "    c_Productivity_OtherDays_Tank2 : Size=28\n",
      "        Key                      : Lower : Body                 : Upper\n",
      "        ('Tank 2', '2021-11-02') :  None :  -11.248697949353037 :   0.0\n",
      "        ('Tank 2', '2021-11-03') :  None :   -9.917080816133083 :   0.0\n",
      "        ('Tank 2', '2021-11-04') :  None :   -9.029064571048963 :   0.0\n",
      "        ('Tank 2', '2021-11-05') :  None :   -8.160330742533747 :   0.0\n",
      "        ('Tank 2', '2021-11-06') :  None :   -7.860818652275011 :   0.0\n",
      "        ('Tank 2', '2021-11-07') :  None :   -7.170607411741626 :   0.0\n",
      "        ('Tank 2', '2021-11-08') :  None :   -6.613791810894099 :   0.0\n",
      "        ('Tank 2', '2021-11-09') :  None :  -6.0649439292776925 :   0.0\n",
      "        ('Tank 2', '2021-11-10') :  None :   -5.631424990249803 :   0.0\n",
      "        ('Tank 2', '2021-11-11') :  None :   -4.793424206276002 :   0.0\n",
      "        ('Tank 2', '2021-11-12') :  None :    -4.39327648251275 :   0.0\n",
      "        ('Tank 2', '2021-11-13') :  None :  -3.9149556052540504 :   0.0\n",
      "        ('Tank 2', '2021-11-14') :  None :  -3.5079055839483715 :   0.0\n",
      "        ('Tank 2', '2021-11-15') :  None :  -3.1228964627200284 :   0.0\n",
      "        ('Tank 2', '2021-11-16') :  None :   -2.773097613337958 :   0.0\n",
      "        ('Tank 2', '2021-11-17') :  None :  -2.4161639037009373 :   0.0\n",
      "        ('Tank 2', '2021-11-18') :  None :  -2.0931811328154346 :   0.0\n",
      "        ('Tank 2', '2021-11-19') :  None :  -1.8409636864203538 :   0.0\n",
      "        ('Tank 2', '2021-11-20') :  None :   -1.385161329468641 :   0.0\n",
      "        ('Tank 2', '2021-11-21') :  None : -0.04004296211484615 :   0.0\n",
      "        ('Tank 2', '2021-11-22') :  None :   -1.182429251361338 :   0.0\n",
      "        ('Tank 2', '2021-11-23') :  None :   -1.141571833413808 :   0.0\n",
      "        ('Tank 2', '2021-11-24') :  None :  -1.0327264266723777 :   0.0\n",
      "        ('Tank 2', '2021-11-25') :  None :   -0.976781925595736 :   0.0\n",
      "        ('Tank 2', '2021-11-26') :  None :  -0.8743176428941446 :   0.0\n",
      "        ('Tank 2', '2021-11-27') :  None :  -0.8691611474594563 :   0.0\n",
      "        ('Tank 2', '2021-11-28') :  None :  -0.8810335415388106 :   0.0\n",
      "        ('Tank 2', '2021-11-29') :  None : -0.30773924611333037 :   0.0\n",
      "    c_Productivity_LastDay_Tank1 : Size=1\n",
      "        Key                      : Lower : Body                    : Upper\n",
      "        ('Tank 1', '2021-11-30') :   0.0 : -1.2860112974522053e-10 :   0.0\n",
      "    c_Productivity_LastDay_Tank2 : Size=1\n",
      "        Key                      : Lower : Body                  : Upper\n",
      "        ('Tank 2', '2021-11-30') :   0.0 : 2.403410803708539e-11 :   0.0\n",
      "    c_Balance : Size=60\n",
      "        Key                      : Lower : Body                    : Upper\n",
      "        ('Tank 1', '2021-11-01') :   0.0 :  -5.684341886080802e-14 :   0.0\n",
      "        ('Tank 1', '2021-11-02') :   0.0 :                     0.0 :   0.0\n",
      "        ('Tank 1', '2021-11-03') :   0.0 : -1.1368683772161603e-13 :   0.0\n",
      "        ('Tank 1', '2021-11-04') :   0.0 :  -5.684341886080802e-14 :   0.0\n",
      "        ('Tank 1', '2021-11-05') :   0.0 : -1.1368683772161603e-13 :   0.0\n",
      "        ('Tank 1', '2021-11-06') :   0.0 :  -5.684341886080802e-14 :   0.0\n",
      "        ('Tank 1', '2021-11-07') :   0.0 : -1.1368683772161603e-13 :   0.0\n",
      "        ('Tank 1', '2021-11-08') :   0.0 :  -5.684341886080802e-14 :   0.0\n",
      "        ('Tank 1', '2021-11-09') :   0.0 : -1.1368683772161603e-13 :   0.0\n",
      "        ('Tank 1', '2021-11-10') :   0.0 :  -5.684341886080802e-14 :   0.0\n",
      "        ('Tank 1', '2021-11-11') :   0.0 :  -5.684341886080802e-14 :   0.0\n",
      "        ('Tank 1', '2021-11-12') :   0.0 : -1.1368683772161603e-13 :   0.0\n",
      "        ('Tank 1', '2021-11-13') :   0.0 :  -5.684341886080802e-14 :   0.0\n",
      "        ('Tank 1', '2021-11-14') :   0.0 : -1.1368683772161603e-13 :   0.0\n",
      "        ('Tank 1', '2021-11-15') :   0.0 :  -5.684341886080802e-14 :   0.0\n",
      "        ('Tank 1', '2021-11-16') :   0.0 :  -5.684341886080802e-14 :   0.0\n",
      "        ('Tank 1', '2021-11-17') :   0.0 : -1.1368683772161603e-13 :   0.0\n",
      "        ('Tank 1', '2021-11-18') :   0.0 :  -5.684341886080802e-14 :   0.0\n",
      "        ('Tank 1', '2021-11-19') :   0.0 :  -5.684341886080802e-14 :   0.0\n",
      "        ('Tank 1', '2021-11-20') :   0.0 : -1.1368683772161603e-13 :   0.0\n",
      "        ('Tank 1', '2021-11-21') :   0.0 : -1.1368683772161603e-13 :   0.0\n",
      "        ('Tank 1', '2021-11-22') :   0.0 :  -5.684341886080802e-14 :   0.0\n",
      "        ('Tank 1', '2021-11-23') :   0.0 : -1.1368683772161603e-13 :   0.0\n",
      "        ('Tank 1', '2021-11-24') :   0.0 : -1.1368683772161603e-13 :   0.0\n",
      "        ('Tank 1', '2021-11-25') :   0.0 : -1.1368683772161603e-13 :   0.0\n",
      "        ('Tank 1', '2021-11-26') :   0.0 :  -5.684341886080802e-14 :   0.0\n",
      "        ('Tank 1', '2021-11-27') :   0.0 : -1.1368683772161603e-13 :   0.0\n",
      "        ('Tank 1', '2021-11-28') :   0.0 :  -5.684341886080802e-14 :   0.0\n",
      "        ('Tank 1', '2021-11-29') :   0.0 : -1.1368683772161603e-13 :   0.0\n",
      "        ('Tank 1', '2021-11-30') :   0.0 :  -5.684341886080802e-14 :   0.0\n",
      "        ('Tank 2', '2021-11-01') :   0.0 :  -5.684341886080802e-14 :   0.0\n",
      "        ('Tank 2', '2021-11-02') :   0.0 : -1.1368683772161603e-13 :   0.0\n",
      "        ('Tank 2', '2021-11-03') :   0.0 :  -5.684341886080802e-14 :   0.0\n",
      "        ('Tank 2', '2021-11-04') :   0.0 :  -5.684341886080802e-14 :   0.0\n",
      "        ('Tank 2', '2021-11-05') :   0.0 : -1.1368683772161603e-13 :   0.0\n",
      "        ('Tank 2', '2021-11-06') :   0.0 : -1.1368683772161603e-13 :   0.0\n",
      "        ('Tank 2', '2021-11-07') :   0.0 :  -5.684341886080802e-14 :   0.0\n",
      "        ('Tank 2', '2021-11-08') :   0.0 : -1.1368683772161603e-13 :   0.0\n",
      "        ('Tank 2', '2021-11-09') :   0.0 : -1.1368683772161603e-13 :   0.0\n",
      "        ('Tank 2', '2021-11-10') :   0.0 :  -5.684341886080802e-14 :   0.0\n",
      "        ('Tank 2', '2021-11-11') :   0.0 : -1.1368683772161603e-13 :   0.0\n",
      "        ('Tank 2', '2021-11-12') :   0.0 :  -5.684341886080802e-14 :   0.0\n",
      "        ('Tank 2', '2021-11-13') :   0.0 :  -5.684341886080802e-14 :   0.0\n",
      "        ('Tank 2', '2021-11-14') :   0.0 : -1.1368683772161603e-13 :   0.0\n",
      "        ('Tank 2', '2021-11-15') :   0.0 :  -8.526512829121202e-14 :   0.0\n",
      "        ('Tank 2', '2021-11-16') :   0.0 :  -5.684341886080802e-14 :   0.0\n",
      "        ('Tank 2', '2021-11-17') :   0.0 :  -5.684341886080802e-14 :   0.0\n",
      "        ('Tank 2', '2021-11-18') :   0.0 :  -8.526512829121202e-14 :   0.0\n",
      "        ('Tank 2', '2021-11-19') :   0.0 :  -8.526512829121202e-14 :   0.0\n",
      "        ('Tank 2', '2021-11-20') :   0.0 :  -8.526512829121202e-14 :   0.0\n",
      "        ('Tank 2', '2021-11-21') :   0.0 :  -8.526512829121202e-14 :   0.0\n",
      "        ('Tank 2', '2021-11-22') :   0.0 :  -5.684341886080802e-14 :   0.0\n",
      "        ('Tank 2', '2021-11-23') :   0.0 :  -8.526512829121202e-14 :   0.0\n",
      "        ('Tank 2', '2021-11-24') :   0.0 :  -7.105427357601002e-14 :   0.0\n",
      "        ('Tank 2', '2021-11-25') :   0.0 :  -7.105427357601002e-14 :   0.0\n",
      "        ('Tank 2', '2021-11-26') :   0.0 :  -7.105427357601002e-14 :   0.0\n",
      "        ('Tank 2', '2021-11-27') :   0.0 :  -8.526512829121202e-14 :   0.0\n",
      "        ('Tank 2', '2021-11-28') :   0.0 :  -7.815970093361102e-14 :   0.0\n",
      "        ('Tank 2', '2021-11-29') :   0.0 :  -8.526512829121202e-14 :   0.0\n",
      "        ('Tank 2', '2021-11-30') :   0.0 :  -7.105427357601002e-14 :   0.0\n",
      "    c_Productivity : Size=30\n",
      "        Key        : Lower : Body               : Upper\n",
      "        2021-11-01 : 15.46 : 15.460000000000079 : 15.46\n",
      "        2021-11-02 : 15.93 : 15.930000000000078 : 15.93\n",
      "        2021-11-03 : 16.41 : 16.410000000000082 : 16.41\n",
      "        2021-11-04 :  16.9 : 16.900000000000077 :  16.9\n",
      "        2021-11-05 :  17.0 : 17.000000000000078 :  17.0\n",
      "        2021-11-06 :  17.0 : 17.000000000000078 :  17.0\n",
      "        2021-11-07 :  17.0 : 17.000000000000078 :  17.0\n",
      "        2021-11-08 :  17.0 : 17.000000000000078 :  17.0\n",
      "        2021-11-09 :  17.0 : 17.000000000000078 :  17.0\n",
      "        2021-11-10 :  17.0 : 17.000000000000078 :  17.0\n",
      "        2021-11-11 :  17.0 : 17.000000000000078 :  17.0\n",
      "        2021-11-12 :  17.0 : 17.000000000000078 :  17.0\n",
      "        2021-11-13 :  17.0 : 17.000000000000078 :  17.0\n",
      "        2021-11-14 :  17.0 : 17.000000000000078 :  17.0\n",
      "        2021-11-15 :  17.0 : 17.000000000000078 :  17.0\n",
      "        2021-11-16 :  17.0 : 17.000000000000078 :  17.0\n",
      "        2021-11-17 :  17.0 : 17.000000000000078 :  17.0\n",
      "        2021-11-18 :  17.0 : 17.000000000000078 :  17.0\n",
      "        2021-11-19 :  17.0 : 17.000000000000078 :  17.0\n",
      "        2021-11-20 :  17.0 : 17.000000000000078 :  17.0\n",
      "        2021-11-21 :  17.0 : 17.000000000000078 :  17.0\n",
      "        2021-11-22 :  17.0 : 17.000000000000078 :  17.0\n",
      "        2021-11-23 :  17.0 : 17.000000000000078 :  17.0\n",
      "        2021-11-24 :  17.0 : 17.000000000000078 :  17.0\n",
      "        2021-11-25 :  17.0 : 17.000000000000078 :  17.0\n",
      "        2021-11-26 :  17.0 : 17.000000000000078 :  17.0\n",
      "        2021-11-27 :  17.0 : 17.000000000000078 :  17.0\n",
      "        2021-11-28 :  17.0 : 17.000000000000078 :  17.0\n",
      "        2021-11-29 :  17.0 : 17.000000000000078 :  17.0\n",
      "        2021-11-30 :  17.0 : 19.143413214486536 :  17.0\n"
     ]
    }
   ],
   "source": [
    "model.display()"
   ]
  },
  {
   "cell_type": "markdown",
   "metadata": {},
   "source": [
    "# Рассуждения про стохастику\n",
    "\n"
   ]
  },
  {
   "cell_type": "markdown",
   "metadata": {},
   "source": [
    "Нужно добавить еще одно множество сценариев: оптимистичный, пессимистичный и базовый. Добавить индекс сценария в параметр потребности в день и вероятность сценария. Индекс пойдет в переменные потребности, балансовые ограничения и ограничения потребности.  При расчете получим дерево решений."
   ]
  }
 ],
 "metadata": {
  "kernelspec": {
   "display_name": "Python 3 (ipykernel)",
   "language": "python",
   "name": "python3"
  },
  "language_info": {
   "codemirror_mode": {
    "name": "ipython",
    "version": 3
   },
   "file_extension": ".py",
   "mimetype": "text/x-python",
   "name": "python",
   "nbconvert_exporter": "python",
   "pygments_lexer": "ipython3",
   "version": "3.11.4"
  },
  "toc": {
   "base_numbering": 1,
   "nav_menu": {},
   "number_sections": false,
   "sideBar": false,
   "skip_h1_title": false,
   "title_cell": "Table of Contents",
   "title_sidebar": "Contents",
   "toc_cell": false,
   "toc_position": {},
   "toc_section_display": false,
   "toc_window_display": false
  }
 },
 "nbformat": 4,
 "nbformat_minor": 4
}
